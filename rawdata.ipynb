{
 "cells": [
  {
   "cell_type": "code",
   "execution_count": 1,
   "metadata": {
    "collapsed": false,
    "ExecuteTime": {
     "end_time": "2023-07-24T17:34:40.100478Z",
     "start_time": "2023-07-24T17:34:39.388921Z"
    }
   },
   "outputs": [],
   "source": [
    "# libraries\n",
    "import os\n",
    "import datetime as dt\n",
    "from collections import Counter\n",
    "import pandas as pd\n",
    "import numpy as np\n",
    "import pyarrow as pa\n",
    "import pyarrow.parquet as pq\n",
    "import matplotlib.pyplot as plt"
   ]
  },
  {
   "cell_type": "code",
   "execution_count": 2,
   "outputs": [],
   "source": [
    "# DIRECTORY PATH\n",
    "RAW_DATA_DIRECTORY = 'raw_data'\n",
    "DATA_DIRECTORY = 'data'\n",
    "\n",
    "# FLOW DATA\n",
    "RAW_FLOW_CSV = 'd12_text_station_5min_2019_10_08.txt.gz'\n",
    "RAW_FLOW_PARQUET = 'd12_raw_flow_191008.parquet'\n",
    "RAW_FLOW_COLS_TO_IMPORT = list(range(0, 12))\n",
    "RAW_FLOW_COLS_NAMES = ['timestamp', 'station', 'district', 'freeway_num', 'direction', \\\n",
    "     'lane_type', 'station_length', 'samples', 'pct_observed', 'total_flow', \\\n",
    "     'avg_occupancy', 'avg_speed']\n",
    "\n",
    "# STATION DATA\n",
    "RAW_STATION_CSV = 'd12_text_meta_2019_11_05.txt'\n",
    "RAW_STATION_PARQUET = 'd12_raw_station.parquet'\n",
    "RAW_SCOLS_TO_IMPORT = ['ID', 'Fwy', 'Dir', 'District', 'County', 'Abs_PM', 'Latitude', 'Longitude']\n",
    "\n",
    "# PM DATA\n",
    "RAW_PM_CSV = 'SHN_Postmiles_Tenth.csv'\n",
    "RAW_PM_PARQUET = 'raw_pm.parquet'\n",
    "RAW_PMCOLS_TO_IMPORT = [0, 1, 3, 8, 10, 12, 16]"
   ],
   "metadata": {
    "collapsed": false,
    "ExecuteTime": {
     "end_time": "2023-07-24T17:40:56.937787Z",
     "start_time": "2023-07-24T17:40:56.925710Z"
    }
   }
  },
  {
   "cell_type": "markdown",
   "source": [
    "# Load datasets\n",
    "\n",
    "- `flowdf`\n",
    "- `sdf`\n",
    "- `pmdf`"
   ],
   "metadata": {
    "collapsed": false
   }
  },
  {
   "cell_type": "code",
   "execution_count": 17,
   "outputs": [],
   "source": [
    "def load_data():\n",
    "    # file path\n",
    "    csv_flow_file = os.path.join(RAW_DATA_DIRECTORY, RAW_FLOW_CSV)\n",
    "    parquet_flow_file = os.path.join(DATA_DIRECTORY, RAW_FLOW_PARQUET)\n",
    "    csv_station_file = os.path.join(RAW_DATA_DIRECTORY, RAW_STATION_CSV)\n",
    "    parquet_station_file = os.path.join(DATA_DIRECTORY, RAW_STATION_PARQUET)\n",
    "    csv_pm_file = os.path.join(RAW_DATA_DIRECTORY, RAW_PM_CSV)\n",
    "    parquet_pm_file = os.path.join(DATA_DIRECTORY, RAW_PM_PARQUET)\n",
    "\n",
    "    # flow data\n",
    "    if os.path.exists(parquet_flow_file):\n",
    "        print('Parquet Flow Data Loaded')\n",
    "        raw_flow_df = pd.read_parquet(parquet_flow_file)\n",
    "    else:\n",
    "        print('CSV Flow Data Loaded')\n",
    "        raw_flow_df = pd.read_csv(csv_flow_file, compression='gzip', delimiter=',', header=None, usecols=RAW_FLOW_COLS_TO_IMPORT)\n",
    "        raw_flow_df.columns = RAW_FLOW_COLS_NAMES\n",
    "\n",
    "    # station_pm data\n",
    "    if os.path.exists(parquet_station_file):\n",
    "        print('Parquet Station Data Loaded')\n",
    "        raw_station_df = pd.read_parquet(parquet_station_file)\n",
    "    else:\n",
    "        print('CSV Station Data Loaded')\n",
    "        raw_station_df = pd.read_csv(csv_station_file, delimiter='\\t', usecols=RAW_SCOLS_TO_IMPORT)\n",
    "    sdf_col_names = ['station', 'freeway_num', 'direction', 'district', 'county', 'abs_pm', 'latitude', 'longitude']\n",
    "    raw_station_df.columns = sdf_col_names\n",
    "\n",
    "    # pm_df\n",
    "    if os.path.exists(parquet_pm_file):\n",
    "        print('Parquet PM Data Loaded')\n",
    "        raw_pm_df = pd.read_parquet(parquet_pm_file)\n",
    "    else:\n",
    "        print('CSV PM Data Loaded')\n",
    "        raw_pm_df = pd.read_csv(csv_pm_file, usecols=RAW_PMCOLS_TO_IMPORT)\n",
    "\n",
    "    # pm_df lat and long conversion\n",
    "    # from pyproj import Proj, transform\n",
    "    #\n",
    "    # in_proj = Proj(init='epsg:3857')  # Input coordinate system (Web Mercator)\n",
    "    # out_proj = Proj(init='epsg:4326')  # Output coordinate system (WGS84)\n",
    "    #\n",
    "    # x = pmdf['X']  # Original x-coordinate\n",
    "    # y = pmdf['Y']  # Original y-coordinate\n",
    "    #\n",
    "    # pmdf['longitude'], pmdf['latitude'] = transform(in_proj, out_proj, x, y)\n",
    "    #\n",
    "    return raw_flow_df, raw_station_df, raw_pm_df"
   ],
   "metadata": {
    "collapsed": false,
    "ExecuteTime": {
     "end_time": "2023-07-24T18:32:50.470209Z",
     "start_time": "2023-07-24T18:32:50.468729Z"
    }
   }
  },
  {
   "cell_type": "code",
   "execution_count": 18,
   "outputs": [
    {
     "name": "stdout",
     "output_type": "stream",
     "text": [
      "Parquet Flow Data Loaded\n",
      "Parquet Station Data Loaded\n",
      "Parquet PM Data Loaded\n"
     ]
    }
   ],
   "source": [
    "# load raw data\n",
    "raw_flowdf, sdf, pmdf = load_data()"
   ],
   "metadata": {
    "collapsed": false,
    "ExecuteTime": {
     "end_time": "2023-07-24T18:32:51.509008Z",
     "start_time": "2023-07-24T18:32:51.389547Z"
    }
   }
  },
  {
   "cell_type": "code",
   "execution_count": 19,
   "outputs": [
    {
     "data": {
      "text/plain": "                   timestamp  station  district  freeway_num direction  \\\n2  2019-10-08 00:00:00-07:00  1201054        12          133         S   \n5  2019-10-08 00:00:00-07:00  1201066        12          133         N   \n7  2019-10-08 00:00:00-07:00  1201076        12          133         N   \n9  2019-10-08 00:00:00-07:00  1201085        12          405         S   \n10 2019-10-08 00:00:00-07:00  1201087        12          405         S   \n\n   lane_type  station_length  samples  pct_observed  total_flow  \\\n2         ML           1.285       30           100         8.0   \n5         ML           0.670       20           100        11.0   \n7         ML           0.185        0             0        44.0   \n9         HV           0.180       10           100         3.0   \n10        ML           0.180       50           100        67.0   \n\n    avg_occupancy  avg_speed  \n2          0.0038       68.8  \n5          0.0044       65.7  \n7          0.0292       60.9  \n9          0.0022       65.0  \n10         0.0066       72.1  ",
      "text/html": "<div>\n<style scoped>\n    .dataframe tbody tr th:only-of-type {\n        vertical-align: middle;\n    }\n\n    .dataframe tbody tr th {\n        vertical-align: top;\n    }\n\n    .dataframe thead th {\n        text-align: right;\n    }\n</style>\n<table border=\"1\" class=\"dataframe\">\n  <thead>\n    <tr style=\"text-align: right;\">\n      <th></th>\n      <th>timestamp</th>\n      <th>station</th>\n      <th>district</th>\n      <th>freeway_num</th>\n      <th>direction</th>\n      <th>lane_type</th>\n      <th>station_length</th>\n      <th>samples</th>\n      <th>pct_observed</th>\n      <th>total_flow</th>\n      <th>avg_occupancy</th>\n      <th>avg_speed</th>\n    </tr>\n  </thead>\n  <tbody>\n    <tr>\n      <th>2</th>\n      <td>2019-10-08 00:00:00-07:00</td>\n      <td>1201054</td>\n      <td>12</td>\n      <td>133</td>\n      <td>S</td>\n      <td>ML</td>\n      <td>1.285</td>\n      <td>30</td>\n      <td>100</td>\n      <td>8.0</td>\n      <td>0.0038</td>\n      <td>68.8</td>\n    </tr>\n    <tr>\n      <th>5</th>\n      <td>2019-10-08 00:00:00-07:00</td>\n      <td>1201066</td>\n      <td>12</td>\n      <td>133</td>\n      <td>N</td>\n      <td>ML</td>\n      <td>0.670</td>\n      <td>20</td>\n      <td>100</td>\n      <td>11.0</td>\n      <td>0.0044</td>\n      <td>65.7</td>\n    </tr>\n    <tr>\n      <th>7</th>\n      <td>2019-10-08 00:00:00-07:00</td>\n      <td>1201076</td>\n      <td>12</td>\n      <td>133</td>\n      <td>N</td>\n      <td>ML</td>\n      <td>0.185</td>\n      <td>0</td>\n      <td>0</td>\n      <td>44.0</td>\n      <td>0.0292</td>\n      <td>60.9</td>\n    </tr>\n    <tr>\n      <th>9</th>\n      <td>2019-10-08 00:00:00-07:00</td>\n      <td>1201085</td>\n      <td>12</td>\n      <td>405</td>\n      <td>S</td>\n      <td>HV</td>\n      <td>0.180</td>\n      <td>10</td>\n      <td>100</td>\n      <td>3.0</td>\n      <td>0.0022</td>\n      <td>65.0</td>\n    </tr>\n    <tr>\n      <th>10</th>\n      <td>2019-10-08 00:00:00-07:00</td>\n      <td>1201087</td>\n      <td>12</td>\n      <td>405</td>\n      <td>S</td>\n      <td>ML</td>\n      <td>0.180</td>\n      <td>50</td>\n      <td>100</td>\n      <td>67.0</td>\n      <td>0.0066</td>\n      <td>72.1</td>\n    </tr>\n  </tbody>\n</table>\n</div>"
     },
     "execution_count": 19,
     "metadata": {},
     "output_type": "execute_result"
    }
   ],
   "source": [
    "raw_flowdf.head()"
   ],
   "metadata": {
    "collapsed": false,
    "ExecuteTime": {
     "end_time": "2023-07-24T18:32:56.134242Z",
     "start_time": "2023-07-24T18:32:56.126148Z"
    }
   }
  },
  {
   "cell_type": "code",
   "execution_count": 6,
   "outputs": [
    {
     "data": {
      "text/plain": "   station  freeway_num direction  district  county  abs_pm   latitude  \\\n0  1201044          133         S        12      59   8.991  33.661840   \n1  1201052          133         S        12      59   8.991  33.661840   \n2  1201054          133         S        12      59   8.991  33.661840   \n3  1201058          133         N        12      59   8.857  33.659542   \n4  1201064          133         N        12      59   8.723  33.657392   \n\n    longitude  \n0 -117.755300  \n1 -117.755300  \n2 -117.755300  \n3 -117.756294  \n4 -117.757636  ",
      "text/html": "<div>\n<style scoped>\n    .dataframe tbody tr th:only-of-type {\n        vertical-align: middle;\n    }\n\n    .dataframe tbody tr th {\n        vertical-align: top;\n    }\n\n    .dataframe thead th {\n        text-align: right;\n    }\n</style>\n<table border=\"1\" class=\"dataframe\">\n  <thead>\n    <tr style=\"text-align: right;\">\n      <th></th>\n      <th>station</th>\n      <th>freeway_num</th>\n      <th>direction</th>\n      <th>district</th>\n      <th>county</th>\n      <th>abs_pm</th>\n      <th>latitude</th>\n      <th>longitude</th>\n    </tr>\n  </thead>\n  <tbody>\n    <tr>\n      <th>0</th>\n      <td>1201044</td>\n      <td>133</td>\n      <td>S</td>\n      <td>12</td>\n      <td>59</td>\n      <td>8.991</td>\n      <td>33.661840</td>\n      <td>-117.755300</td>\n    </tr>\n    <tr>\n      <th>1</th>\n      <td>1201052</td>\n      <td>133</td>\n      <td>S</td>\n      <td>12</td>\n      <td>59</td>\n      <td>8.991</td>\n      <td>33.661840</td>\n      <td>-117.755300</td>\n    </tr>\n    <tr>\n      <th>2</th>\n      <td>1201054</td>\n      <td>133</td>\n      <td>S</td>\n      <td>12</td>\n      <td>59</td>\n      <td>8.991</td>\n      <td>33.661840</td>\n      <td>-117.755300</td>\n    </tr>\n    <tr>\n      <th>3</th>\n      <td>1201058</td>\n      <td>133</td>\n      <td>N</td>\n      <td>12</td>\n      <td>59</td>\n      <td>8.857</td>\n      <td>33.659542</td>\n      <td>-117.756294</td>\n    </tr>\n    <tr>\n      <th>4</th>\n      <td>1201064</td>\n      <td>133</td>\n      <td>N</td>\n      <td>12</td>\n      <td>59</td>\n      <td>8.723</td>\n      <td>33.657392</td>\n      <td>-117.757636</td>\n    </tr>\n  </tbody>\n</table>\n</div>"
     },
     "execution_count": 6,
     "metadata": {},
     "output_type": "execute_result"
    }
   ],
   "source": [
    "sdf.head()"
   ],
   "metadata": {
    "collapsed": false,
    "ExecuteTime": {
     "end_time": "2023-07-24T17:41:37.287708Z",
     "start_time": "2023-07-24T17:41:37.276624Z"
    }
   }
  },
  {
   "cell_type": "code",
   "execution_count": 7,
   "outputs": [
    {
     "data": {
      "text/plain": "              X             Y  Route  District         PM     PMc AlignCode  \\\n0 -1.371930e+07  4.652531e+06      1         4  32.647999  32.648      Left   \n1 -1.371923e+07  4.652599e+06      1         4  32.599998    32.6      Left   \n2 -1.371919e+07  4.652779e+06      1         4  32.500000    32.5      Left   \n3 -1.371908e+07  4.652457e+06      1         4  32.299999    32.3      Left   \n4 -1.371871e+07  4.652367e+06      1         4  32.099998    32.1      Left   \n\n    longitude   latitude  \n0 -123.242583  38.515671  \n1 -123.241985  38.516151  \n2 -123.241586  38.517415  \n3 -123.240602  38.515148  \n4 -123.237282  38.514516  ",
      "text/html": "<div>\n<style scoped>\n    .dataframe tbody tr th:only-of-type {\n        vertical-align: middle;\n    }\n\n    .dataframe tbody tr th {\n        vertical-align: top;\n    }\n\n    .dataframe thead th {\n        text-align: right;\n    }\n</style>\n<table border=\"1\" class=\"dataframe\">\n  <thead>\n    <tr style=\"text-align: right;\">\n      <th></th>\n      <th>X</th>\n      <th>Y</th>\n      <th>Route</th>\n      <th>District</th>\n      <th>PM</th>\n      <th>PMc</th>\n      <th>AlignCode</th>\n      <th>longitude</th>\n      <th>latitude</th>\n    </tr>\n  </thead>\n  <tbody>\n    <tr>\n      <th>0</th>\n      <td>-1.371930e+07</td>\n      <td>4.652531e+06</td>\n      <td>1</td>\n      <td>4</td>\n      <td>32.647999</td>\n      <td>32.648</td>\n      <td>Left</td>\n      <td>-123.242583</td>\n      <td>38.515671</td>\n    </tr>\n    <tr>\n      <th>1</th>\n      <td>-1.371923e+07</td>\n      <td>4.652599e+06</td>\n      <td>1</td>\n      <td>4</td>\n      <td>32.599998</td>\n      <td>32.6</td>\n      <td>Left</td>\n      <td>-123.241985</td>\n      <td>38.516151</td>\n    </tr>\n    <tr>\n      <th>2</th>\n      <td>-1.371919e+07</td>\n      <td>4.652779e+06</td>\n      <td>1</td>\n      <td>4</td>\n      <td>32.500000</td>\n      <td>32.5</td>\n      <td>Left</td>\n      <td>-123.241586</td>\n      <td>38.517415</td>\n    </tr>\n    <tr>\n      <th>3</th>\n      <td>-1.371908e+07</td>\n      <td>4.652457e+06</td>\n      <td>1</td>\n      <td>4</td>\n      <td>32.299999</td>\n      <td>32.3</td>\n      <td>Left</td>\n      <td>-123.240602</td>\n      <td>38.515148</td>\n    </tr>\n    <tr>\n      <th>4</th>\n      <td>-1.371871e+07</td>\n      <td>4.652367e+06</td>\n      <td>1</td>\n      <td>4</td>\n      <td>32.099998</td>\n      <td>32.1</td>\n      <td>Left</td>\n      <td>-123.237282</td>\n      <td>38.514516</td>\n    </tr>\n  </tbody>\n</table>\n</div>"
     },
     "execution_count": 7,
     "metadata": {},
     "output_type": "execute_result"
    }
   ],
   "source": [
    "pmdf.head()"
   ],
   "metadata": {
    "collapsed": false,
    "ExecuteTime": {
     "end_time": "2023-07-24T17:41:39.050878Z",
     "start_time": "2023-07-24T17:41:39.027727Z"
    }
   }
  },
  {
   "cell_type": "markdown",
   "source": [
    "# Check the type of each column"
   ],
   "metadata": {
    "collapsed": false
   }
  },
  {
   "cell_type": "code",
   "execution_count": 20,
   "outputs": [
    {
     "data": {
      "text/plain": "timestamp         datetime64[ns, America/Los_Angeles]\nstation                                         int64\ndistrict                                        int64\nfreeway_num                                     int64\ndirection                                      object\nlane_type                                      object\nstation_length                                float64\nsamples                                         int64\npct_observed                                    int64\ntotal_flow                                    float64\navg_occupancy                                 float64\navg_speed                                     float64\ndtype: object"
     },
     "execution_count": 20,
     "metadata": {},
     "output_type": "execute_result"
    }
   ],
   "source": [
    "raw_flowdf.dtypes"
   ],
   "metadata": {
    "collapsed": false,
    "ExecuteTime": {
     "end_time": "2023-07-24T18:32:59.704833Z",
     "start_time": "2023-07-24T18:32:59.696394Z"
    }
   }
  },
  {
   "cell_type": "code",
   "execution_count": 9,
   "outputs": [
    {
     "data": {
      "text/plain": "station          int64\nfreeway_num      int64\ndirection       object\ndistrict         int64\ncounty           int64\nabs_pm         float64\nlatitude       float64\nlongitude      float64\ndtype: object"
     },
     "execution_count": 9,
     "metadata": {},
     "output_type": "execute_result"
    }
   ],
   "source": [
    "sdf.dtypes"
   ],
   "metadata": {
    "collapsed": false,
    "ExecuteTime": {
     "end_time": "2023-07-24T17:42:46.562890Z",
     "start_time": "2023-07-24T17:42:46.555660Z"
    }
   }
  },
  {
   "cell_type": "code",
   "execution_count": 11,
   "outputs": [
    {
     "data": {
      "text/plain": "X            float64\nY            float64\nRoute          int64\nDistrict       int64\nPM           float64\nPMc           object\nAlignCode     object\nlongitude    float64\nlatitude     float64\ndtype: object"
     },
     "execution_count": 11,
     "metadata": {},
     "output_type": "execute_result"
    }
   ],
   "source": [
    "pmdf.dtypes"
   ],
   "metadata": {
    "collapsed": false,
    "ExecuteTime": {
     "end_time": "2023-07-24T17:43:37.013637Z",
     "start_time": "2023-07-24T17:43:37.001844Z"
    }
   }
  },
  {
   "cell_type": "markdown",
   "source": [
    "# Modify Raw Flow df"
   ],
   "metadata": {
    "collapsed": false
   }
  },
  {
   "cell_type": "code",
   "execution_count": 23,
   "outputs": [],
   "source": [
    "def tweak_raw_flow(raw_flowdf):\n",
    "    \"\"\"\n",
    "    :param df:\n",
    "    :return:\n",
    "    This function processes a DataFrame 'df' by performing several operations:\n",
    "    - Converts the 'timestamp' column to datetime with a specific timezone.\n",
    "    - Checks the 'timestamp' column for specific unique hours and minutes.\n",
    "    - Filters the 'lane_type' column to keep only 'ML' and 'HV'.\n",
    "    It returns the processed DataFrame.\n",
    "    \"\"\"\n",
    "    # Make a copy of the input DataFrame to avoid modifying the original\n",
    "    df = raw_flowdf.copy()\n",
    "\n",
    "    # timestamp\n",
    "    # convert to datetime format with timezone\n",
    "    if not df['timestamp'].dtypes == 'datetime64[ns, America/Los_Angeles]':\n",
    "        df['timestamp'] = pd.to_datetime(df['timestamp']).dt.tz_localize(None)\n",
    "        df['timestamp'] = df['timestamp'].dt.tz_localize('America/Los_Angeles')\n",
    "\n",
    "    # check timestamp hour and minutes\n",
    "    unique_timestamps = df['timestamp'].unique()\n",
    "    unique_hours = unique_timestamps.hour\n",
    "    unique_minutes = unique_timestamps.minute\n",
    "    assert (len(unique_timestamps) == 288) & (set(unique_hours) == set(range(0, 24))) \\\n",
    "            & (set(unique_minutes) == set(range(0, 60, 5))), 'please check timestamp column'\n",
    "\n",
    "    hour_counts = Counter(unique_hours)\n",
    "    assert all(hour_counts[hour] == 12 for hour in range(24)), 'hour is wrong, check timestamp column'\n",
    "\n",
    "    minute_counts = Counter(unique_minutes)\n",
    "    assert all(minute_counts[minute] == 24 for minute in range(0, 60, 5)), 'minute is wrong, check timestamp column'\n",
    "\n",
    "    # keep only ML and HV for lane_type\n",
    "    df = df[df['lane_type'].isin(['ML', 'HV'])]\n",
    "\n",
    "    return df"
   ],
   "metadata": {
    "collapsed": false,
    "ExecuteTime": {
     "end_time": "2023-07-24T18:33:33.552158Z",
     "start_time": "2023-07-24T18:33:33.541535Z"
    }
   }
  },
  {
   "cell_type": "code",
   "execution_count": 24,
   "outputs": [],
   "source": [
    "flowdf = tweak_raw_flow(raw_flowdf)"
   ],
   "metadata": {
    "collapsed": false,
    "ExecuteTime": {
     "end_time": "2023-07-24T18:33:34.276988Z",
     "start_time": "2023-07-24T18:33:34.212153Z"
    }
   }
  },
  {
   "cell_type": "markdown",
   "source": [
    "## Select Desired Route, Direction, and Lane Type\n",
    "\n",
    "- Sort by `timestamp` and `station`\n",
    "\n",
    "### Route 405-N-ML as Test Case\n",
    "\n",
    "- Check shape\n",
    "- Check if each station is unique\n"
   ],
   "metadata": {
    "collapsed": false
   }
  },
  {
   "cell_type": "code",
   "execution_count": 30,
   "outputs": [],
   "source": [
    "def select_route(flowdf, freeway_num, direction, lane_type):\n",
    "\n",
    "    # use assert to check the required columns\n",
    "    required_columns = {'freeway_num', 'direction', 'lane_type'}\n",
    "    assert required_columns.issubset(flowdf.columns), f\"{flowdf} is missing some required columns.\"\n",
    "    # Make a copy of the input DataFrame to avoid modifying the original\n",
    "    df = flowdf.copy()\n",
    "\n",
    "    # filter the df based on route number, direction, and lane type\n",
    "    df = df[(df['freeway_num']==freeway_num) & (df['direction']==direction) & (df['lane_type']==lane_type)]\n",
    "\n",
    "    # sort by timestamp and station, then reset index\n",
    "    df = df.sort_values(['timestamp', 'station']).reset_index(drop=True)\n",
    "\n",
    "    assert df.shape[1] == 12, 'The columns of route df is wrong'\n",
    "    route_required_columns = ['timestamp', 'station', 'district', 'freeway_num', 'direction',\n",
    "       'lane_type', 'station_length', 'samples', 'pct_observed', 'total_flow',\n",
    "       'avg_occupancy', 'avg_speed']\n",
    "    assert set(route_required_columns).issubset(df.columns), 'Some columns are not included in the df, check raw data'\n",
    "    return df"
   ],
   "metadata": {
    "collapsed": false,
    "ExecuteTime": {
     "end_time": "2023-07-24T18:38:57.883375Z",
     "start_time": "2023-07-24T18:38:57.878304Z"
    }
   }
  },
  {
   "cell_type": "code",
   "execution_count": 38,
   "outputs": [
    {
     "data": {
      "text/plain": "(16704, 12)"
     },
     "execution_count": 38,
     "metadata": {},
     "output_type": "execute_result"
    }
   ],
   "source": [
    "I_405N_ML = select_route(flowdf, 405, 'N', 'ML')\n",
    "I_405N_ML.shape"
   ],
   "metadata": {
    "collapsed": false,
    "ExecuteTime": {
     "end_time": "2023-07-24T20:46:27.349451Z",
     "start_time": "2023-07-24T20:46:27.279494Z"
    }
   }
  },
  {
   "cell_type": "code",
   "execution_count": 39,
   "outputs": [
    {
     "data": {
      "text/plain": "Index(['timestamp', 'station', 'district', 'freeway_num', 'direction',\n       'lane_type', 'station_length', 'samples', 'pct_observed', 'total_flow',\n       'avg_occupancy', 'avg_speed'],\n      dtype='object')"
     },
     "execution_count": 39,
     "metadata": {},
     "output_type": "execute_result"
    }
   ],
   "source": [
    "I_405N_ML.columns"
   ],
   "metadata": {
    "collapsed": false,
    "ExecuteTime": {
     "end_time": "2023-07-24T20:46:31.384694Z",
     "start_time": "2023-07-24T20:46:31.370978Z"
    }
   }
  },
  {
   "cell_type": "markdown",
   "source": [
    "## Assign Null values to traffic flow\n",
    "\n",
    "- Assigns NaN to the 'total_flow' column where the 'pct_observed' is less than 70\n",
    "\n",
    "### Check NaN Values\n",
    "\n",
    "- Pivot the raw df with index=station, columns=timestamp, values=total_flow\n",
    "- Drop the row if the row includes more than 50% of NaN\n",
    "\n",
    "### Naming\n",
    "\n",
    "- {route_type}\\_{route_num}{direction}\\_{lane_type}"
   ],
   "metadata": {
    "collapsed": false
   }
  },
  {
   "cell_type": "code",
   "execution_count": 52,
   "outputs": [],
   "source": [
    "def assign_null_pivot(route_flow_df, observed_pct_thresh, pivot_value):\n",
    "    \"\"\"\n",
    "    - Assigns NaN to the 'total_flow' column in the input DataFrame 'flow_df'\n",
    "    for rows where the 'pct_observed' is less than the specified threshold.\n",
    "    - Pivot the raw df with index=station, columns=timestamp, values=total_flow\n",
    "    - Drop the row if the row includes more than 50% of NaN\n",
    "    :param flow_df:\n",
    "    :param observed_pct_thresh:\n",
    "    :return:\n",
    "    \"\"\"\n",
    "    # check the required columns of flow_df\n",
    "    required_columns = {'pct_observed', 'total_flow', 'timestamp', 'station'}\n",
    "    assert required_columns.issubset(route_flow_df.columns), f\"{route_flow_df} is missing some required columns.\"\n",
    "    assert route_flow_df['freeway_num'].nunique() == 1, \"flow_df should have only one unique value in the 'station' column.\"\n",
    "    assert route_flow_df['direction'].nunique() == 1, \"flow_df should have only one unique value in the 'station' column.\"\n",
    "    assert route_flow_df['lane_type'].nunique() == 1, \"flow_df should have only one unique value in the 'station' column.\"\n",
    "\n",
    "    df = route_flow_df.copy()\n",
    "\n",
    "    # filter flow_df and assign NaN\n",
    "    pct_observed_mask = df['pct_observed'] < observed_pct_thresh\n",
    "    df.loc[pct_observed_mask, 'total_flow'] = np.nan\n",
    "\n",
    "    # pivot df, each row is a station and each column is 5-min interval\n",
    "    df_pivot = df.pivot(index='station', columns='timestamp', values=pivot_value).reset_index()\n",
    "\n",
    "    # set threshold to drop rows: 50%\n",
    "    drop_raw_threshold = len(df_pivot.columns) * 0.5\n",
    "    # drop the raw if get the number of NaN values of a row across columns\n",
    "    df_pivot_dropped = df_pivot.dropna(thresh=drop_raw_threshold)\n",
    "\n",
    "\n",
    "    # rename all columns of pivoted df\n",
    "    pivot_col_names = [f\"{hour:02d}{minute:02d}\" for hour in range(0, 24) for minute in range(0, 60, 5)]\n",
    "    pivot_col_names.insert(0, 'station')\n",
    "    df_pivot_dropped.columns = pivot_col_names\n",
    "\n",
    "    # assert the number of columns\n",
    "    assert df_pivot_dropped.shape[1] == 289, 'Wrong columns, check flowdf and route selection'\n",
    "    return df_pivot_dropped"
   ],
   "metadata": {
    "collapsed": false,
    "ExecuteTime": {
     "end_time": "2023-07-24T21:28:42.774801Z",
     "start_time": "2023-07-24T21:28:42.770989Z"
    }
   }
  },
  {
   "cell_type": "code",
   "execution_count": 53,
   "outputs": [
    {
     "data": {
      "text/plain": "(41, 289)"
     },
     "execution_count": 53,
     "metadata": {},
     "output_type": "execute_result"
    }
   ],
   "source": [
    "I_405N_ML_p = assign_null_pivot(I_405N_ML, 70, 'total_flow')\n",
    "I_405N_ML_p.shape"
   ],
   "metadata": {
    "collapsed": false,
    "ExecuteTime": {
     "end_time": "2023-07-24T21:28:46.006030Z",
     "start_time": "2023-07-24T21:28:45.989981Z"
    }
   }
  },
  {
   "cell_type": "code",
   "execution_count": 54,
   "outputs": [],
   "source": [
    "I_405S_ML = select_route(flowdf, 405, 'S', 'ML')\n",
    "I_405S_ML_p = assign_null_pivot(I_405S_ML, 70, 'total_flow')"
   ],
   "metadata": {
    "collapsed": false,
    "ExecuteTime": {
     "end_time": "2023-07-24T21:28:57.515534Z",
     "start_time": "2023-07-24T21:28:57.434350Z"
    }
   }
  },
  {
   "cell_type": "code",
   "execution_count": 55,
   "outputs": [
    {
     "data": {
      "text/plain": "Index(['station', '0000', '0005', '0010', '0015', '0020', '0025', '0030',\n       '0035', '0040',\n       ...\n       '2310', '2315', '2320', '2325', '2330', '2335', '2340', '2345', '2350',\n       '2355'],\n      dtype='object', length=289)"
     },
     "execution_count": 55,
     "metadata": {},
     "output_type": "execute_result"
    }
   ],
   "source": [
    "I_405N_ML_p.columns"
   ],
   "metadata": {
    "collapsed": false,
    "ExecuteTime": {
     "end_time": "2023-07-24T21:29:12.612774Z",
     "start_time": "2023-07-24T21:29:12.609220Z"
    }
   }
  },
  {
   "cell_type": "markdown",
   "source": [
    "## Merge with station_df\n",
    "\n",
    "- Reset index\n",
    "- Rename columns"
   ],
   "metadata": {
    "collapsed": false
   }
  },
  {
   "cell_type": "code",
   "execution_count": 56,
   "outputs": [
    {
     "data": {
      "text/plain": "Index(['station', 'freeway_num', 'direction', 'district', 'county', 'abs_pm',\n       'latitude', 'longitude'],\n      dtype='object')"
     },
     "execution_count": 56,
     "metadata": {},
     "output_type": "execute_result"
    }
   ],
   "source": [
    "sdf.columns"
   ],
   "metadata": {
    "collapsed": false,
    "ExecuteTime": {
     "end_time": "2023-07-24T21:32:42.676460Z",
     "start_time": "2023-07-24T21:32:42.671453Z"
    }
   }
  },
  {
   "cell_type": "code",
   "execution_count": 69,
   "outputs": [],
   "source": [
    "def merge_with_sdf(route_direct_type_p, sdf):\n",
    "\n",
    "    # make copy of input dfs\n",
    "    route_dir_type_p = route_direct_type_p.copy()\n",
    "    sdf_copy = sdf.copy()\n",
    "\n",
    "    # assert sdf's columns\n",
    "    required_sdf_columns = {'station', 'abs_pm', 'latitude', 'longitude'}\n",
    "    assert required_sdf_columns.issubset(sdf.columns), \"missing columns in sdf\"\n",
    "\n",
    "    # merge two dfs\n",
    "    route_dir_type_merged = pd.merge(route_dir_type_p, sdf_copy[['station', 'abs_pm', 'latitude', 'longitude']],\n",
    "                                     on='station', how='left')\n",
    "    route_dir_type_merged = route_dir_type_merged.sort_values('abs_pm').reset_index(drop=True)\n",
    "    return route_dir_type_merged"
   ],
   "metadata": {
    "collapsed": false,
    "ExecuteTime": {
     "end_time": "2023-07-24T22:13:02.653461Z",
     "start_time": "2023-07-24T22:13:02.644309Z"
    }
   }
  },
  {
   "cell_type": "code",
   "execution_count": 70,
   "outputs": [
    {
     "data": {
      "text/plain": "(41, 292)"
     },
     "execution_count": 70,
     "metadata": {},
     "output_type": "execute_result"
    }
   ],
   "source": [
    "# merge with station df\n",
    "I_405N_ML_merged = merge_with_sdf(I_405N_ML_p, sdf)\n",
    "I_405N_ML_merged.shape"
   ],
   "metadata": {
    "collapsed": false,
    "ExecuteTime": {
     "end_time": "2023-07-24T22:13:04.071244Z",
     "start_time": "2023-07-24T22:13:04.058886Z"
    }
   }
  },
  {
   "cell_type": "code",
   "execution_count": 72,
   "outputs": [
    {
     "data": {
      "text/plain": "Index(['X', 'Y', 'Route', 'District', 'PM', 'PMc', 'AlignCode', 'longitude',\n       'latitude'],\n      dtype='object')"
     },
     "execution_count": 72,
     "metadata": {},
     "output_type": "execute_result"
    }
   ],
   "source": [
    "pmdf.columns"
   ],
   "metadata": {
    "collapsed": false,
    "ExecuteTime": {
     "end_time": "2023-07-24T22:13:18.976904Z",
     "start_time": "2023-07-24T22:13:18.973651Z"
    }
   }
  },
  {
   "cell_type": "code",
   "execution_count": 233,
   "outputs": [],
   "source": [
    "def extract_route_pm(raw_pmdf, district, route):\n",
    "    \"\"\"\n",
    "    This function extract the route section and leave necessary for flow interpolation\n",
    "    :param raw_pmdf:\n",
    "    :param district:\n",
    "    :param route:\n",
    "    :return:\n",
    "    \"\"\"\n",
    "    pmdf = raw_pmdf.copy()\n",
    "\n",
    "    # filter by district, route, AlignCode='Left'\n",
    "    route_pm_df = pmdf[(pmdf['District']==district) & (pmdf['Route']==route) & (pmdf['AlignCode']=='Left')]\n",
    "\n",
    "    # delete unnecessary columns\n",
    "    route_pm_df = route_pm_df.drop(columns=['X', 'Y', 'PMc', 'AlignCode'])\n",
    "\n",
    "    # rename necessary columns\n",
    "    route_pm_columns = ['freeway_num', 'district', 'abs_pm', 'longitude', 'latitude']\n",
    "    route_pm_df.columns = route_pm_columns\n",
    "\n",
    "    # round the abs_pm values and sort it\n",
    "    route_pm_df['abs_pm'] = route_pm_df['abs_pm'].round(2)\n",
    "    route_pm_df = route_pm_df.sort_values('abs_pm').reset_index(drop=True)\n",
    "\n",
    "    return route_pm_df\n"
   ],
   "metadata": {
    "collapsed": false,
    "ExecuteTime": {
     "end_time": "2023-07-25T23:14:28.081087Z",
     "start_time": "2023-07-25T23:14:28.080152Z"
    }
   }
  },
  {
   "cell_type": "code",
   "execution_count": 235,
   "outputs": [
    {
     "data": {
      "text/plain": "     freeway_num  district  abs_pm   longitude   latitude\n0            405        12    0.23 -117.735577  33.643991\n1            405        12    0.30 -117.736518  33.644606\n2            405        12    0.40 -117.738040  33.645283\n3            405        12    0.50 -117.739672  33.645762\n4            405        12    0.60 -117.741304  33.646240\n..           ...       ...     ...         ...        ...\n236          405        12   23.80 -118.090590  33.780904\n237          405        12   23.90 -118.090975  33.782308\n238          405        12   24.00 -118.091464  33.783682\n239          405        12   24.10 -118.092377  33.785060\n240          405        12   24.18 -118.093186  33.785814\n\n[241 rows x 5 columns]",
      "text/html": "<div>\n<style scoped>\n    .dataframe tbody tr th:only-of-type {\n        vertical-align: middle;\n    }\n\n    .dataframe tbody tr th {\n        vertical-align: top;\n    }\n\n    .dataframe thead th {\n        text-align: right;\n    }\n</style>\n<table border=\"1\" class=\"dataframe\">\n  <thead>\n    <tr style=\"text-align: right;\">\n      <th></th>\n      <th>freeway_num</th>\n      <th>district</th>\n      <th>abs_pm</th>\n      <th>longitude</th>\n      <th>latitude</th>\n    </tr>\n  </thead>\n  <tbody>\n    <tr>\n      <th>0</th>\n      <td>405</td>\n      <td>12</td>\n      <td>0.23</td>\n      <td>-117.735577</td>\n      <td>33.643991</td>\n    </tr>\n    <tr>\n      <th>1</th>\n      <td>405</td>\n      <td>12</td>\n      <td>0.30</td>\n      <td>-117.736518</td>\n      <td>33.644606</td>\n    </tr>\n    <tr>\n      <th>2</th>\n      <td>405</td>\n      <td>12</td>\n      <td>0.40</td>\n      <td>-117.738040</td>\n      <td>33.645283</td>\n    </tr>\n    <tr>\n      <th>3</th>\n      <td>405</td>\n      <td>12</td>\n      <td>0.50</td>\n      <td>-117.739672</td>\n      <td>33.645762</td>\n    </tr>\n    <tr>\n      <th>4</th>\n      <td>405</td>\n      <td>12</td>\n      <td>0.60</td>\n      <td>-117.741304</td>\n      <td>33.646240</td>\n    </tr>\n    <tr>\n      <th>...</th>\n      <td>...</td>\n      <td>...</td>\n      <td>...</td>\n      <td>...</td>\n      <td>...</td>\n    </tr>\n    <tr>\n      <th>236</th>\n      <td>405</td>\n      <td>12</td>\n      <td>23.80</td>\n      <td>-118.090590</td>\n      <td>33.780904</td>\n    </tr>\n    <tr>\n      <th>237</th>\n      <td>405</td>\n      <td>12</td>\n      <td>23.90</td>\n      <td>-118.090975</td>\n      <td>33.782308</td>\n    </tr>\n    <tr>\n      <th>238</th>\n      <td>405</td>\n      <td>12</td>\n      <td>24.00</td>\n      <td>-118.091464</td>\n      <td>33.783682</td>\n    </tr>\n    <tr>\n      <th>239</th>\n      <td>405</td>\n      <td>12</td>\n      <td>24.10</td>\n      <td>-118.092377</td>\n      <td>33.785060</td>\n    </tr>\n    <tr>\n      <th>240</th>\n      <td>405</td>\n      <td>12</td>\n      <td>24.18</td>\n      <td>-118.093186</td>\n      <td>33.785814</td>\n    </tr>\n  </tbody>\n</table>\n<p>241 rows × 5 columns</p>\n</div>"
     },
     "execution_count": 235,
     "metadata": {},
     "output_type": "execute_result"
    }
   ],
   "source": [
    "I_405N_pm = extract_route_pm(pmdf, 12, 405)\n",
    "I_405N_pm"
   ],
   "metadata": {
    "collapsed": false,
    "ExecuteTime": {
     "end_time": "2023-07-25T23:15:48.807528Z",
     "start_time": "2023-07-25T23:15:48.781114Z"
    }
   }
  },
  {
   "cell_type": "code",
   "execution_count": 236,
   "outputs": [
    {
     "data": {
      "text/plain": "241"
     },
     "execution_count": 236,
     "metadata": {},
     "output_type": "execute_result"
    }
   ],
   "source": [
    "len(I_405N_pm)"
   ],
   "metadata": {
    "collapsed": false,
    "ExecuteTime": {
     "end_time": "2023-07-25T23:20:46.492957Z",
     "start_time": "2023-07-25T23:20:46.486469Z"
    }
   }
  },
  {
   "cell_type": "markdown",
   "source": [
    "## Merge, fillna, Interpolation\n",
    "\n",
    "Merge ready dfs:\n",
    "- Flow: I_405N_ML_merged\n",
    "- Postmile: I_405N_pm"
   ],
   "metadata": {
    "collapsed": false
   }
  },
  {
   "cell_type": "code",
   "execution_count": 266,
   "outputs": [],
   "source": [
    "def flow_interpolation(route_merged_df, route_pm_df):\n",
    "    \"\"\"\n",
    "    This function combines route_merged_df and route_pm_df and calculate the flow at each pm\n",
    "    It first creates bins (pm_range) based on route_pm_df and route_merged_df\n",
    "    Then it calculates the mean of flow for each bin\n",
    "    It fills out the nan values by backfill method across row (axis=0), then interpolate flow across columns (axis=1)\n",
    "    For the last few nan rows beyond pm range from flow data, it forward fills nan\n",
    "    :param route_merged_df:\n",
    "    :param route_pm_df:\n",
    "    :return: a\n",
    "    \"\"\"\n",
    "    # make copies of input dfs\n",
    "    route_df = route_merged_df.copy()\n",
    "    pm_df = route_pm_df.copy()\n",
    "\n",
    "    # create a list of bins that will be used for PM range later\n",
    "    bins = [0] + pm_df['abs_pm'].tolist() + [np.inf]\n",
    "\n",
    "    # append the bins to route_merged_df\n",
    "    route_df['abs_pm_range'] = pd.cut(route_df['abs_pm'], bins=bins)\n",
    "\n",
    "    # calculate mean flow\n",
    "    route_mean_flow = route_df.iloc[:, 1:].groupby('abs_pm_range').mean().reset_index().iloc[:, 0:-2]\n",
    "\n",
    "    # delete the last row (last_pm, np.inf]\n",
    "    route_mean_flow = route_mean_flow.drop(route_mean_flow.index[-1])\n",
    "\n",
    "    # check if rows of route_mean_flow and pm_df are the same\n",
    "    if len(route_mean_flow) == len(pm_df):\n",
    "        route_mean_flow_pm = pm_df.merge(route_mean_flow, left_index=True, right_index=True)\n",
    "\n",
    "        # forward fillna for pm within route_flow_range, back fillna beyound route_flow_range\n",
    "        route_mean_flow_pm = route_mean_flow_pm.fillna(method='bfill', axis=0).fillna(method='ffill', axis=0)\n",
    "\n",
    "        # interpolate nan across columns (across time)\n",
    "        route_mean_flow_pm.iloc[:, 6:-1] = route_mean_flow_pm.iloc[:, 6:-1].interpolate(axis=1).round(0)\n",
    "        return route_mean_flow_pm\n",
    "    else:\n",
    "        return 'Error, check input dfs'"
   ],
   "metadata": {
    "collapsed": false,
    "ExecuteTime": {
     "end_time": "2023-07-25T23:38:46.154598Z",
     "start_time": "2023-07-25T23:38:46.150208Z"
    }
   }
  },
  {
   "cell_type": "code",
   "execution_count": 271,
   "outputs": [],
   "source": [
    "I_405N_mean_flow_pm = flow_interpolation(I_405N_ML_merged, I_405N_pm)"
   ],
   "metadata": {
    "collapsed": false,
    "ExecuteTime": {
     "end_time": "2023-07-25T23:39:05.665118Z",
     "start_time": "2023-07-25T23:39:05.633274Z"
    }
   }
  },
  {
   "cell_type": "code",
   "execution_count": 274,
   "outputs": [
    {
     "data": {
      "text/plain": "0"
     },
     "execution_count": 274,
     "metadata": {},
     "output_type": "execute_result"
    }
   ],
   "source": [
    "# check no nan values in the flow data\n",
    "np.sum(I_405N_mean_flow_pm.isnull().sum())"
   ],
   "metadata": {
    "collapsed": false,
    "ExecuteTime": {
     "end_time": "2023-07-26T02:50:44.708814Z",
     "start_time": "2023-07-26T02:50:44.691826Z"
    }
   }
  },
  {
   "cell_type": "code",
   "execution_count": 278,
   "outputs": [
    {
     "data": {
      "text/plain": "   freeway_num  district  abs_pm_x   longitude   latitude abs_pm_range  0000  \\\n0          405        12      0.23 -117.735577  33.643991  (0.0, 0.23]  14.0   \n\n   0005  0010  0015  ...  2315  2320  2325  2330  2335  2340  2345  2350  \\\n0   0.0   0.0   0.0  ...  75.0  66.0  17.0   0.0   0.0   0.0  72.0   0.0   \n\n   2355  abs_pm_y  \n0   0.0      0.37  \n\n[1 rows x 295 columns]",
      "text/html": "<div>\n<style scoped>\n    .dataframe tbody tr th:only-of-type {\n        vertical-align: middle;\n    }\n\n    .dataframe tbody tr th {\n        vertical-align: top;\n    }\n\n    .dataframe thead th {\n        text-align: right;\n    }\n</style>\n<table border=\"1\" class=\"dataframe\">\n  <thead>\n    <tr style=\"text-align: right;\">\n      <th></th>\n      <th>freeway_num</th>\n      <th>district</th>\n      <th>abs_pm_x</th>\n      <th>longitude</th>\n      <th>latitude</th>\n      <th>abs_pm_range</th>\n      <th>0000</th>\n      <th>0005</th>\n      <th>0010</th>\n      <th>0015</th>\n      <th>...</th>\n      <th>2315</th>\n      <th>2320</th>\n      <th>2325</th>\n      <th>2330</th>\n      <th>2335</th>\n      <th>2340</th>\n      <th>2345</th>\n      <th>2350</th>\n      <th>2355</th>\n      <th>abs_pm_y</th>\n    </tr>\n  </thead>\n  <tbody>\n    <tr>\n      <th>0</th>\n      <td>405</td>\n      <td>12</td>\n      <td>0.23</td>\n      <td>-117.735577</td>\n      <td>33.643991</td>\n      <td>(0.0, 0.23]</td>\n      <td>14.0</td>\n      <td>0.0</td>\n      <td>0.0</td>\n      <td>0.0</td>\n      <td>...</td>\n      <td>75.0</td>\n      <td>66.0</td>\n      <td>17.0</td>\n      <td>0.0</td>\n      <td>0.0</td>\n      <td>0.0</td>\n      <td>72.0</td>\n      <td>0.0</td>\n      <td>0.0</td>\n      <td>0.37</td>\n    </tr>\n  </tbody>\n</table>\n<p>1 rows × 295 columns</p>\n</div>"
     },
     "execution_count": 278,
     "metadata": {},
     "output_type": "execute_result"
    }
   ],
   "source": [
    "I_405N_mean_flow_pm.head(1)"
   ],
   "metadata": {
    "collapsed": false,
    "ExecuteTime": {
     "end_time": "2023-07-26T04:02:50.153175Z",
     "start_time": "2023-07-26T04:02:50.148535Z"
    }
   }
  },
  {
   "cell_type": "code",
   "execution_count": 281,
   "outputs": [],
   "source": [
    "I_405_total_flow_test = I_405N_mean_flow_pm.iloc[:, 6:-1].sum()"
   ],
   "metadata": {
    "collapsed": false,
    "ExecuteTime": {
     "end_time": "2023-07-26T04:05:40.526824Z",
     "start_time": "2023-07-26T04:05:40.517948Z"
    }
   }
  },
  {
   "cell_type": "code",
   "execution_count": 283,
   "outputs": [
    {
     "data": {
      "text/plain": "[<matplotlib.lines.Line2D at 0x152ea08b0>]"
     },
     "execution_count": 283,
     "metadata": {},
     "output_type": "execute_result"
    },
    {
     "data": {
      "text/plain": "<Figure size 640x480 with 1 Axes>",
      "image/png": "[encoded data removed]"
     },
     "metadata": {},
     "output_type": "display_data"
    }
   ],
   "source": [
    "plt.plot(I_405_total_flow_test)"
   ],
   "metadata": {
    "collapsed": false,
    "ExecuteTime": {
     "end_time": "2023-07-26T04:06:26.522773Z",
     "start_time": "2023-07-26T04:06:25.692210Z"
    }
   }
  },
  {
   "cell_type": "code",
   "execution_count": 246,
   "outputs": [],
   "source": [
    "def plot_station_flow(interpolated_df, uninterpolated_df, num_intervals):\n",
    "     if num_intervals not in [3, 6, 9, 12]:\n",
    "          raise ValueError(\"'num_intervals' must be either 3, 6, 9, or 12.\")\n",
    "\n",
    "     # TODO: only slice the first row\n",
    "\n",
    "     fig, ax = plt.subplots(figsize=(20, 6))\n",
    "\n",
    "     # plot interpolated flow\n",
    "     time_of_day = interpolated_df.columns[1:-3]\n",
    "     interpolated_flow = interpolated_df.iloc[0, 1:-3]\n",
    "     ax.plot(time_of_day, interpolated_flow)\n",
    "\n",
    "     # plot uninterpolated flow\n",
    "     uninterpolated_flow = uninterpolated_df.iloc[0, 1:-3]\n",
    "     missing_flow = uninterpolated_flow[pd.isna(uninterpolated_flow)]\n",
    "     missing_flow_x = missing_flow.index\n",
    "     missing_flow_y = [interpolated_flow[time] for time in missing_flow_x]\n",
    "     ax.plot(missing_flow_x, missing_flow_y, 'ro', label='Interpolated Flow')\n",
    "\n",
    "     # only show every 15 minutes\n",
    "     xtick_position = range(0, len(time_of_day), num_intervals)\n",
    "     xtick_labels = time_of_day[::num_intervals]\n",
    "\n",
    "     # set ax xticks\n",
    "     ax.set_xticks(xtick_position)\n",
    "     ax.set_xticklabels(xtick_labels, rotation=90)\n",
    "\n",
    "     # set x-axis labels\n",
    "     ax.set_xlabel('Time')\n",
    "\n",
    "     # set y-axis labels\n",
    "     ax.set_ylabel('Total Flow')\n",
    "\n",
    "     # add a legend\n",
    "     ax.legend()\n",
    "\n",
    "     # show the plot\n",
    "     plt.show()\n",
    "\n"
   ],
   "metadata": {
    "collapsed": false,
    "ExecuteTime": {
     "end_time": "2023-07-18T17:57:16.486493Z",
     "start_time": "2023-07-18T17:57:16.482947Z"
    }
   }
  },
  {
   "cell_type": "code",
   "execution_count": 247,
   "outputs": [
    {
     "data": {
      "text/plain": "<Figure size 2000x600 with 1 Axes>",
      "image/png": "[encoded data removed]"
     },
     "metadata": {},
     "output_type": "display_data"
    }
   ],
   "source": [
    "plot_station_flow(df_405N_ML_interpolated, df_405N_ML_merged, 12)"
   ],
   "metadata": {
    "collapsed": false,
    "ExecuteTime": {
     "end_time": "2023-07-18T17:57:17.817867Z",
     "start_time": "2023-07-18T17:57:17.685214Z"
    }
   }
  },
  {
   "cell_type": "code",
   "execution_count": 276,
   "outputs": [
    {
     "data": {
      "text/plain": "    PM  traffic_flow  interpolated\n0  0.0         100.0           0.0\n1  0.1           NaN           NaN\n2  0.2         200.0           0.0\n3  0.3         350.0           0.0\n4  0.4         500.0           1.0\n5  0.5         600.0           0.0",
      "text/html": "<div>\n<style scoped>\n    .dataframe tbody tr th:only-of-type {\n        vertical-align: middle;\n    }\n\n    .dataframe tbody tr th {\n        vertical-align: top;\n    }\n\n    .dataframe thead th {\n        text-align: right;\n    }\n</style>\n<table border=\"1\" class=\"dataframe\">\n  <thead>\n    <tr style=\"text-align: right;\">\n      <th></th>\n      <th>PM</th>\n      <th>traffic_flow</th>\n      <th>interpolated</th>\n    </tr>\n  </thead>\n  <tbody>\n    <tr>\n      <th>0</th>\n      <td>0.0</td>\n      <td>100.0</td>\n      <td>0.0</td>\n    </tr>\n    <tr>\n      <th>1</th>\n      <td>0.1</td>\n      <td>NaN</td>\n      <td>NaN</td>\n    </tr>\n    <tr>\n      <th>2</th>\n      <td>0.2</td>\n      <td>200.0</td>\n      <td>0.0</td>\n    </tr>\n    <tr>\n      <th>3</th>\n      <td>0.3</td>\n      <td>350.0</td>\n      <td>0.0</td>\n    </tr>\n    <tr>\n      <th>4</th>\n      <td>0.4</td>\n      <td>500.0</td>\n      <td>1.0</td>\n    </tr>\n    <tr>\n      <th>5</th>\n      <td>0.5</td>\n      <td>600.0</td>\n      <td>0.0</td>\n    </tr>\n  </tbody>\n</table>\n</div>"
     },
     "execution_count": 276,
     "metadata": {},
     "output_type": "execute_result"
    }
   ],
   "source": [
    "df_a = pd.DataFrame({'PM': [0, 0.1, 0.2, 0.3, 0.4, 0.5]})\n",
    "df_c = pd.DataFrame({'PM': [0.03, 0.26, 0.35, 0.4, 0.49, 0.65], 'traffic_flow': [100, 200, 300, 400, np.nan, 600]})\n",
    "\n",
    "# Create a boolean column indicating if the value was interpolated\n",
    "df_c['interpolated'] = df_c['traffic_flow'].isna()\n",
    "\n",
    "# Interpolate missing traffic_flow values in df_c\n",
    "df_c['traffic_flow'] = df_c['traffic_flow'].interpolate()\n",
    "\n",
    "# Create interval bins\n",
    "bins = df_a['PM'].tolist() + [np.inf]\n",
    "\n",
    "# Assign each PM in df_c to an interval in df_a\n",
    "df_c['PM_range'] = pd.cut(df_c['PM'], bins=bins)\n",
    "\n",
    "# Group by PM_range and calculate mean traffic_flow and maximum interpolated\n",
    "traffic_flow_mean = df_c.groupby('PM_range').agg({'traffic_flow': 'mean', 'interpolated': 'max'}).reset_index()\n",
    "\n",
    "traffic_flow_mean['PM'] = traffic_flow_mean['PM_range'].apply(lambda x: x.left)\n",
    "\n",
    "# Merge the average traffic_flow and interpolated to df_a\n",
    "df_final = pd.merge(df_a, traffic_flow_mean, on='PM', how='left')\n",
    "\n",
    "# Clean up the final dataframe\n",
    "df_final = df_final.drop(columns='PM_range')\n",
    "df_final\n"
   ],
   "metadata": {
    "collapsed": false,
    "ExecuteTime": {
     "end_time": "2023-07-18T22:25:43.758821Z",
     "start_time": "2023-07-18T22:25:43.752667Z"
    }
   }
  },
  {
   "cell_type": "code",
   "execution_count": 282,
   "outputs": [
    {
     "data": {
      "text/plain": "<Figure size 500x400 with 1 Axes>",
      "image/png": "[encoded data removed]"
     },
     "metadata": {},
     "output_type": "display_data"
    }
   ],
   "source": [
    "import matplotlib.pyplot as plt\n",
    "\n",
    "df_d = pd.DataFrame({'PM': [0, 0.1, 0.2, 0.3, 0.4, 0.5],\n",
    "                     'traffic_flow': [100, 150, 200, 350, 500, 600],\n",
    "                     'interpolated': [False, True, False, False, True, False]})\n",
    "\n",
    "plt.figure(figsize=(5, 4))\n",
    "# Plot all points with a line\n",
    "plt.plot(df_d['PM'], df_d['traffic_flow'], color='blue')\n",
    "\n",
    "# Overplot the interpolated points with red color\n",
    "plt.scatter(df_d[df_d['interpolated']]['PM'],\n",
    "            df_d[df_d['interpolated']]['traffic_flow'],\n",
    "            color='red')\n",
    "\n",
    "plt.xlabel('PM')\n",
    "plt.ylabel('traffic_flow')\n",
    "plt.title('Traffic flow vs PM')\n",
    "plt.show()"
   ],
   "metadata": {
    "collapsed": false,
    "ExecuteTime": {
     "end_time": "2023-07-18T22:34:07.412928Z",
     "start_time": "2023-07-18T22:34:07.332496Z"
    }
   }
  },
  {
   "cell_type": "code",
   "execution_count": 285,
   "outputs": [
    {
     "data": {
      "text/plain": "<Figure size 500x300 with 1 Axes>",
      "image/png": "[encoded data removed]"
     },
     "metadata": {},
     "output_type": "display_data"
    }
   ],
   "source": [
    "import matplotlib.pyplot as plt\n",
    "\n",
    "df_d = pd.DataFrame({'PM': [0, 0.1, 0.2, 0.3, 0.4, 0.5],\n",
    "                     'traffic_flow': [100, 150, 200, 350, 500, 600],\n",
    "                     'interpolated': [False, True, False, False, True, False]})\n",
    "\n",
    "plt.figure(figsize=(5, 3))\n",
    "\n",
    "# Loop over each segment\n",
    "for i in range(len(df_d['PM']) - 1):\n",
    "    x = df_d['PM'].iloc[i:i+2]\n",
    "    y = df_d['traffic_flow'].iloc[i:i+2]\n",
    "\n",
    "    # If the current point is interpolated, the line to the next point is red, else blue\n",
    "    color = 'red' if df_d['interpolated'].iloc[i] else 'blue'\n",
    "    plt.plot(x, y, color=color)\n",
    "\n",
    "plt.xlabel('PM')\n",
    "plt.ylabel('traffic_flow')\n",
    "plt.title('Traffic flow vs PM')\n",
    "plt.show()"
   ],
   "metadata": {
    "collapsed": false,
    "ExecuteTime": {
     "end_time": "2023-07-18T22:41:09.445040Z",
     "start_time": "2023-07-18T22:41:09.380461Z"
    }
   }
  }
 ],
 "metadata": {
  "kernelspec": {
   "name": "python3",
   "language": "python",
   "display_name": "Python 3 (ipykernel)"
  },
  "language_info": {
   "codemirror_mode": {
    "name": "ipython",
    "version": 3
   },
   "file_extension": ".py",
   "mimetype": "text/x-python",
   "name": "python",
   "nbconvert_exporter": "python",
   "pygments_lexer": "ipython3",
   "version": "3.10.5"
  }
 },
 "nbformat": 4,
 "nbformat_minor": 0
}
