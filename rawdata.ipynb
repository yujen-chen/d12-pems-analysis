{
 "cells": [
  {
   "cell_type": "code",
   "execution_count": 1,
   "metadata": {
    "collapsed": false,
    "ExecuteTime": {
     "end_time": "2023-05-28T21:49:13.114072200Z",
     "start_time": "2023-05-28T21:49:12.689178Z"
    }
   },
   "outputs": [],
   "source": [
    "import os\n",
    "import gzip\n",
    "import csv\n",
    "import datetime as dt\n",
    "import pandas as pd\n",
    "import numpy as np"
   ]
  },
  {
   "cell_type": "code",
   "execution_count": null,
   "metadata": {
    "collapsed": false,
    "is_executing": true
   },
   "outputs": [],
   "source": [
    "directory_path = 'data/'\n",
    "file_list = []\n",
    "for file in os.listdir(directory_path):\n",
    "    # os.fsdecode decode a file system name from the file system's encoding to Unicode\n",
    "    filename = os.fsdecode(file)\n",
    "    if filename.endswith('.gz'):\n",
    "        file_list.append(filename)\n",
    "        # print(f'Processing file: {filename}')\n",
    "\n",
    "file_list"
   ]
  },
  {
   "attachments": {},
   "cell_type": "markdown",
   "metadata": {
    "collapsed": false
   },
   "source": [
    "## Notes\n",
    "\n",
    "### Filter the data:\n",
    "\n",
    "- only lane type = `ML` or `HV` will be collected\n",
    "- `total_flow` and `avg_speed` will be interpolated if `pct_observed >= 70`"
   ]
  },
  {
   "cell_type": "code",
   "execution_count": 2,
   "metadata": {
    "collapsed": false,
    "ExecuteTime": {
     "end_time": "2023-05-28T21:49:24.038683600Z",
     "start_time": "2023-05-28T21:49:23.055961900Z"
    }
   },
   "outputs": [],
   "source": [
    "directory_path = 'data/'\n",
    "pemsdata_columns = \\\n",
    "    ['timestamp', 'station', 'district', 'freeway_num', 'direction', \\\n",
    "     'lane_type', 'station_length', 'samples', 'pct_observed', 'total_flow', \\\n",
    "     'avg_occupancy', 'avg_speed']\n",
    "\n",
    "raw_df = pd.read_csv(directory_path+'d12_text_station_5min_2019_10_08.txt.gz', header=None, usecols=range(0, 12))\n",
    "raw_df.columns = pemsdata_columns\n",
    "raw_df['timestamp'] = pd.to_datetime(raw_df['timestamp'], format=\"%m/%d/%Y %H:%M:%S\")\n",
    "raw_df = raw_df[(raw_df['lane_type'] == 'HV') | (raw_df['lane_type'] == 'ML')]\n",
    "# raw_df.to_parquet(directory_path + \"d12_5min_\" + f\"{raw_df['timestamp'][0].strftime('%y%m%d')}\" + \".parquet\")\n"
   ]
  },
  {
   "cell_type": "code",
   "execution_count": 45,
   "metadata": {},
   "outputs": [
    {
     "data": {
      "text/plain": [
       "2          8.0\n",
       "5         11.0\n",
       "7         44.0\n",
       "9          3.0\n",
       "10        67.0\n",
       "          ... \n",
       "695512    11.0\n",
       "695513     0.0\n",
       "695514     4.0\n",
       "695518    93.0\n",
       "695519     1.0\n",
       "Name: total_flow, Length: 443808, dtype: float64"
      ]
     },
     "execution_count": 45,
     "metadata": {},
     "output_type": "execute_result"
    }
   ],
   "source": [
    "# if pct_observed is larger than 70, keep it as it is; otherwise, change to interpolate()\n",
    "raw_df['total_flow'].where(raw_df['pct_observed']>=70, raw_df['total_flow'].interpolate())"
   ]
  },
  {
   "cell_type": "code",
   "execution_count": 3,
   "metadata": {
    "ExecuteTime": {
     "end_time": "2023-05-28T21:49:45.843310500Z",
     "start_time": "2023-05-28T21:49:45.774285400Z"
    }
   },
   "outputs": [
    {
     "data": {
      "text/plain": "2          8.0\n5         11.0\n7         44.0\n9          3.0\n10        67.0\n          ... \n695512    11.0\n695513     0.0\n695514     4.0\n695518    93.0\n695519     1.0\nName: total_flow, Length: 443808, dtype: float64"
     },
     "execution_count": 3,
     "metadata": {},
     "output_type": "execute_result"
    }
   ],
   "source": [
    "# assign np.nan value to total_flow if the pct_observed is less than 70\n",
    "# group by each route, fill np.ana value with interpolate values\n",
    "# interpolate is designed to be applied on missing values\n",
    "raw_df['total_flow'].where(raw_df['pct_observed']>=70, np.nan)\n",
    "raw_df.groupby('freeway_num')['total_flow'].apply(lambda x: x.interpolate())"
   ]
  },
  {
   "cell_type": "code",
   "execution_count": 49,
   "metadata": {
    "collapsed": false
   },
   "outputs": [
    {
     "data": {
      "text/plain": [
       "443808"
      ]
     },
     "execution_count": 49,
     "metadata": {},
     "output_type": "execute_result"
    }
   ],
   "source": [
    "(raw_df['total_flow'].interpolate().fillna(0) == raw_df['total_flow'].where(raw_df['pct_observed']>=70, raw_df['total_flow'].interpolate())).sum()"
   ]
  },
  {
   "cell_type": "code",
   "execution_count": null,
   "metadata": {
    "collapsed": false
   },
   "outputs": [],
   "source": []
  }
 ],
 "metadata": {
  "kernelspec": {
   "display_name": "Python 3",
   "language": "python",
   "name": "python3"
  },
  "language_info": {
   "codemirror_mode": {
    "name": "ipython",
    "version": 3
   },
   "file_extension": ".py",
   "mimetype": "text/x-python",
   "name": "python",
   "nbconvert_exporter": "python",
   "pygments_lexer": "ipython3",
   "version": "3.10.10"
  }
 },
 "nbformat": 4,
 "nbformat_minor": 0
}
