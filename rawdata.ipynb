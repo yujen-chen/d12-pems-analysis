{
 "cells": [
  {
   "cell_type": "code",
   "execution_count": 125,
   "metadata": {
    "collapsed": false,
    "ExecuteTime": {
     "end_time": "2023-07-17T21:38:28.207787Z",
     "start_time": "2023-07-17T21:38:27.744281Z"
    }
   },
   "outputs": [],
   "source": [
    "import os\n",
    "import gzip\n",
    "import csv\n",
    "import datetime as dt\n",
    "import pandas as pd\n",
    "import numpy as np\n",
    "import pyarrow as pa\n",
    "import pyarrow.parquet as pq\n",
    "import matplotlib.pyplot as plt"
   ]
  },
  {
   "cell_type": "code",
   "execution_count": 5,
   "outputs": [
    {
     "data": {
      "text/plain": "             timestamp  station  district  freeway_num direction lane_type  \\\n0  10/08/2019 00:00:00  1201044        12          133         S        OR   \n1  10/08/2019 00:00:00  1201052        12          133         S        FR   \n2  10/08/2019 00:00:00  1201054        12          133         S        ML   \n3  10/08/2019 00:00:00  1201058        12          133         N        OR   \n4  10/08/2019 00:00:00  1201064        12          133         N        FR   \n\n   station_length  samples  pct_observed  total_flow  avg_occupancy  avg_speed  \n0             NaN        0             0         NaN            NaN        NaN  \n1             NaN       10           100         0.0         0.0000        NaN  \n2           1.285       30           100         8.0         0.0038       68.8  \n3             NaN        0             0         NaN            NaN        NaN  \n4             NaN        0             0         NaN            NaN        NaN  ",
      "text/html": "<div>\n<style scoped>\n    .dataframe tbody tr th:only-of-type {\n        vertical-align: middle;\n    }\n\n    .dataframe tbody tr th {\n        vertical-align: top;\n    }\n\n    .dataframe thead th {\n        text-align: right;\n    }\n</style>\n<table border=\"1\" class=\"dataframe\">\n  <thead>\n    <tr style=\"text-align: right;\">\n      <th></th>\n      <th>timestamp</th>\n      <th>station</th>\n      <th>district</th>\n      <th>freeway_num</th>\n      <th>direction</th>\n      <th>lane_type</th>\n      <th>station_length</th>\n      <th>samples</th>\n      <th>pct_observed</th>\n      <th>total_flow</th>\n      <th>avg_occupancy</th>\n      <th>avg_speed</th>\n    </tr>\n  </thead>\n  <tbody>\n    <tr>\n      <th>0</th>\n      <td>10/08/2019 00:00:00</td>\n      <td>1201044</td>\n      <td>12</td>\n      <td>133</td>\n      <td>S</td>\n      <td>OR</td>\n      <td>NaN</td>\n      <td>0</td>\n      <td>0</td>\n      <td>NaN</td>\n      <td>NaN</td>\n      <td>NaN</td>\n    </tr>\n    <tr>\n      <th>1</th>\n      <td>10/08/2019 00:00:00</td>\n      <td>1201052</td>\n      <td>12</td>\n      <td>133</td>\n      <td>S</td>\n      <td>FR</td>\n      <td>NaN</td>\n      <td>10</td>\n      <td>100</td>\n      <td>0.0</td>\n      <td>0.0000</td>\n      <td>NaN</td>\n    </tr>\n    <tr>\n      <th>2</th>\n      <td>10/08/2019 00:00:00</td>\n      <td>1201054</td>\n      <td>12</td>\n      <td>133</td>\n      <td>S</td>\n      <td>ML</td>\n      <td>1.285</td>\n      <td>30</td>\n      <td>100</td>\n      <td>8.0</td>\n      <td>0.0038</td>\n      <td>68.8</td>\n    </tr>\n    <tr>\n      <th>3</th>\n      <td>10/08/2019 00:00:00</td>\n      <td>1201058</td>\n      <td>12</td>\n      <td>133</td>\n      <td>N</td>\n      <td>OR</td>\n      <td>NaN</td>\n      <td>0</td>\n      <td>0</td>\n      <td>NaN</td>\n      <td>NaN</td>\n      <td>NaN</td>\n    </tr>\n    <tr>\n      <th>4</th>\n      <td>10/08/2019 00:00:00</td>\n      <td>1201064</td>\n      <td>12</td>\n      <td>133</td>\n      <td>N</td>\n      <td>FR</td>\n      <td>NaN</td>\n      <td>0</td>\n      <td>0</td>\n      <td>NaN</td>\n      <td>NaN</td>\n      <td>NaN</td>\n    </tr>\n  </tbody>\n</table>\n</div>"
     },
     "execution_count": 5,
     "metadata": {},
     "output_type": "execute_result"
    }
   ],
   "source": [
    "RAW_DATA_PATH = 'raw_data/d12_text_station_5min_2019_10_08.txt.gz'\n",
    "\n",
    "COLS_TO_IMPORT = list(range(0, 12))\n",
    "df = pd.read_csv(RAW_DATA_PATH, compression='gzip', delimiter=',', header=None, usecols=COLS_TO_IMPORT)\n",
    "cols_name = ['timestamp', 'station', 'district', 'freeway_num', 'direction', \\\n",
    "     'lane_type', 'station_length', 'samples', 'pct_observed', 'total_flow', \\\n",
    "     'avg_occupancy', 'avg_speed']\n",
    "df.columns = cols_name\n",
    "df.head()"
   ],
   "metadata": {
    "collapsed": false,
    "ExecuteTime": {
     "end_time": "2023-07-15T17:56:06.803543Z",
     "start_time": "2023-07-15T17:56:05.999108Z"
    }
   }
  },
  {
   "cell_type": "code",
   "execution_count": 7,
   "outputs": [],
   "source": [
    "df['timestamp'] = pd.to_datetime(df['timestamp'])"
   ],
   "metadata": {
    "collapsed": false,
    "ExecuteTime": {
     "end_time": "2023-07-15T23:00:13.275600Z",
     "start_time": "2023-07-15T23:00:13.238589Z"
    }
   }
  },
  {
   "cell_type": "code",
   "execution_count": 10,
   "outputs": [],
   "source": [
    "df['timestamp'] = df['timestamp'].dt.tz_localize('America/Los_Angeles')"
   ],
   "metadata": {
    "collapsed": false,
    "ExecuteTime": {
     "end_time": "2023-07-15T23:02:36.573922Z",
     "start_time": "2023-07-15T23:02:36.330401Z"
    }
   }
  },
  {
   "cell_type": "code",
   "execution_count": 11,
   "outputs": [
    {
     "data": {
      "text/plain": "timestamp         datetime64[ns, America/Los_Angeles]\nstation                                         int64\ndistrict                                        int64\nfreeway_num                                     int64\ndirection                                      object\nlane_type                                      object\nstation_length                                float64\nsamples                                         int64\npct_observed                                    int64\ntotal_flow                                    float64\navg_occupancy                                 float64\navg_speed                                     float64\ndtype: object"
     },
     "execution_count": 11,
     "metadata": {},
     "output_type": "execute_result"
    }
   ],
   "source": [
    "df.dtypes"
   ],
   "metadata": {
    "collapsed": false,
    "ExecuteTime": {
     "end_time": "2023-07-15T23:02:41.511136Z",
     "start_time": "2023-07-15T23:02:41.506336Z"
    }
   }
  },
  {
   "cell_type": "code",
   "execution_count": 12,
   "outputs": [
    {
     "data": {
      "text/plain": "                  timestamp  station  district  freeway_num direction  \\\n0 2019-10-08 00:00:00-07:00  1201044        12          133         S   \n1 2019-10-08 00:00:00-07:00  1201052        12          133         S   \n2 2019-10-08 00:00:00-07:00  1201054        12          133         S   \n3 2019-10-08 00:00:00-07:00  1201058        12          133         N   \n4 2019-10-08 00:00:00-07:00  1201064        12          133         N   \n\n  lane_type  station_length  samples  pct_observed  total_flow  avg_occupancy  \\\n0        OR             NaN        0             0         NaN            NaN   \n1        FR             NaN       10           100         0.0         0.0000   \n2        ML           1.285       30           100         8.0         0.0038   \n3        OR             NaN        0             0         NaN            NaN   \n4        FR             NaN        0             0         NaN            NaN   \n\n   avg_speed  \n0        NaN  \n1        NaN  \n2       68.8  \n3        NaN  \n4        NaN  ",
      "text/html": "<div>\n<style scoped>\n    .dataframe tbody tr th:only-of-type {\n        vertical-align: middle;\n    }\n\n    .dataframe tbody tr th {\n        vertical-align: top;\n    }\n\n    .dataframe thead th {\n        text-align: right;\n    }\n</style>\n<table border=\"1\" class=\"dataframe\">\n  <thead>\n    <tr style=\"text-align: right;\">\n      <th></th>\n      <th>timestamp</th>\n      <th>station</th>\n      <th>district</th>\n      <th>freeway_num</th>\n      <th>direction</th>\n      <th>lane_type</th>\n      <th>station_length</th>\n      <th>samples</th>\n      <th>pct_observed</th>\n      <th>total_flow</th>\n      <th>avg_occupancy</th>\n      <th>avg_speed</th>\n    </tr>\n  </thead>\n  <tbody>\n    <tr>\n      <th>0</th>\n      <td>2019-10-08 00:00:00-07:00</td>\n      <td>1201044</td>\n      <td>12</td>\n      <td>133</td>\n      <td>S</td>\n      <td>OR</td>\n      <td>NaN</td>\n      <td>0</td>\n      <td>0</td>\n      <td>NaN</td>\n      <td>NaN</td>\n      <td>NaN</td>\n    </tr>\n    <tr>\n      <th>1</th>\n      <td>2019-10-08 00:00:00-07:00</td>\n      <td>1201052</td>\n      <td>12</td>\n      <td>133</td>\n      <td>S</td>\n      <td>FR</td>\n      <td>NaN</td>\n      <td>10</td>\n      <td>100</td>\n      <td>0.0</td>\n      <td>0.0000</td>\n      <td>NaN</td>\n    </tr>\n    <tr>\n      <th>2</th>\n      <td>2019-10-08 00:00:00-07:00</td>\n      <td>1201054</td>\n      <td>12</td>\n      <td>133</td>\n      <td>S</td>\n      <td>ML</td>\n      <td>1.285</td>\n      <td>30</td>\n      <td>100</td>\n      <td>8.0</td>\n      <td>0.0038</td>\n      <td>68.8</td>\n    </tr>\n    <tr>\n      <th>3</th>\n      <td>2019-10-08 00:00:00-07:00</td>\n      <td>1201058</td>\n      <td>12</td>\n      <td>133</td>\n      <td>N</td>\n      <td>OR</td>\n      <td>NaN</td>\n      <td>0</td>\n      <td>0</td>\n      <td>NaN</td>\n      <td>NaN</td>\n      <td>NaN</td>\n    </tr>\n    <tr>\n      <th>4</th>\n      <td>2019-10-08 00:00:00-07:00</td>\n      <td>1201064</td>\n      <td>12</td>\n      <td>133</td>\n      <td>N</td>\n      <td>FR</td>\n      <td>NaN</td>\n      <td>0</td>\n      <td>0</td>\n      <td>NaN</td>\n      <td>NaN</td>\n      <td>NaN</td>\n    </tr>\n  </tbody>\n</table>\n</div>"
     },
     "execution_count": 12,
     "metadata": {},
     "output_type": "execute_result"
    }
   ],
   "source": [
    "df.head()"
   ],
   "metadata": {
    "collapsed": false,
    "ExecuteTime": {
     "end_time": "2023-07-15T23:02:48.080897Z",
     "start_time": "2023-07-15T23:02:48.074187Z"
    }
   }
  },
  {
   "cell_type": "code",
   "execution_count": 14,
   "outputs": [
    {
     "data": {
      "text/plain": "array(['OR', 'FR', 'ML', 'HV', 'FF', 'CD', 'CH'], dtype=object)"
     },
     "execution_count": 14,
     "metadata": {},
     "output_type": "execute_result"
    }
   ],
   "source": [
    "df['lane_type'].unique()"
   ],
   "metadata": {
    "collapsed": false,
    "ExecuteTime": {
     "end_time": "2023-07-15T23:17:44.525760Z",
     "start_time": "2023-07-15T23:17:44.517302Z"
    }
   }
  },
  {
   "cell_type": "code",
   "execution_count": 16,
   "outputs": [
    {
     "data": {
      "text/plain": "                   timestamp  station  district  freeway_num direction  \\\n2  2019-10-08 00:00:00-07:00  1201054        12          133         S   \n5  2019-10-08 00:00:00-07:00  1201066        12          133         N   \n7  2019-10-08 00:00:00-07:00  1201076        12          133         N   \n9  2019-10-08 00:00:00-07:00  1201085        12          405         S   \n10 2019-10-08 00:00:00-07:00  1201087        12          405         S   \n\n   lane_type  station_length  samples  pct_observed  total_flow  \\\n2         ML           1.285       30           100         8.0   \n5         ML           0.670       20           100        11.0   \n7         ML           0.185        0             0        44.0   \n9         HV           0.180       10           100         3.0   \n10        ML           0.180       50           100        67.0   \n\n    avg_occupancy  avg_speed  \n2          0.0038       68.8  \n5          0.0044       65.7  \n7          0.0292       60.9  \n9          0.0022       65.0  \n10         0.0066       72.1  ",
      "text/html": "<div>\n<style scoped>\n    .dataframe tbody tr th:only-of-type {\n        vertical-align: middle;\n    }\n\n    .dataframe tbody tr th {\n        vertical-align: top;\n    }\n\n    .dataframe thead th {\n        text-align: right;\n    }\n</style>\n<table border=\"1\" class=\"dataframe\">\n  <thead>\n    <tr style=\"text-align: right;\">\n      <th></th>\n      <th>timestamp</th>\n      <th>station</th>\n      <th>district</th>\n      <th>freeway_num</th>\n      <th>direction</th>\n      <th>lane_type</th>\n      <th>station_length</th>\n      <th>samples</th>\n      <th>pct_observed</th>\n      <th>total_flow</th>\n      <th>avg_occupancy</th>\n      <th>avg_speed</th>\n    </tr>\n  </thead>\n  <tbody>\n    <tr>\n      <th>2</th>\n      <td>2019-10-08 00:00:00-07:00</td>\n      <td>1201054</td>\n      <td>12</td>\n      <td>133</td>\n      <td>S</td>\n      <td>ML</td>\n      <td>1.285</td>\n      <td>30</td>\n      <td>100</td>\n      <td>8.0</td>\n      <td>0.0038</td>\n      <td>68.8</td>\n    </tr>\n    <tr>\n      <th>5</th>\n      <td>2019-10-08 00:00:00-07:00</td>\n      <td>1201066</td>\n      <td>12</td>\n      <td>133</td>\n      <td>N</td>\n      <td>ML</td>\n      <td>0.670</td>\n      <td>20</td>\n      <td>100</td>\n      <td>11.0</td>\n      <td>0.0044</td>\n      <td>65.7</td>\n    </tr>\n    <tr>\n      <th>7</th>\n      <td>2019-10-08 00:00:00-07:00</td>\n      <td>1201076</td>\n      <td>12</td>\n      <td>133</td>\n      <td>N</td>\n      <td>ML</td>\n      <td>0.185</td>\n      <td>0</td>\n      <td>0</td>\n      <td>44.0</td>\n      <td>0.0292</td>\n      <td>60.9</td>\n    </tr>\n    <tr>\n      <th>9</th>\n      <td>2019-10-08 00:00:00-07:00</td>\n      <td>1201085</td>\n      <td>12</td>\n      <td>405</td>\n      <td>S</td>\n      <td>HV</td>\n      <td>0.180</td>\n      <td>10</td>\n      <td>100</td>\n      <td>3.0</td>\n      <td>0.0022</td>\n      <td>65.0</td>\n    </tr>\n    <tr>\n      <th>10</th>\n      <td>2019-10-08 00:00:00-07:00</td>\n      <td>1201087</td>\n      <td>12</td>\n      <td>405</td>\n      <td>S</td>\n      <td>ML</td>\n      <td>0.180</td>\n      <td>50</td>\n      <td>100</td>\n      <td>67.0</td>\n      <td>0.0066</td>\n      <td>72.1</td>\n    </tr>\n  </tbody>\n</table>\n</div>"
     },
     "execution_count": 16,
     "metadata": {},
     "output_type": "execute_result"
    }
   ],
   "source": [
    "# keep lane_type = ML or HV\n",
    "lane_type_keep = ['ML', 'HV']\n",
    "df = df[df['lane_type'].isin(lane_type_keep)]\n",
    "df.head()"
   ],
   "metadata": {
    "collapsed": false,
    "ExecuteTime": {
     "end_time": "2023-07-15T23:21:21.957950Z",
     "start_time": "2023-07-15T23:21:21.935620Z"
    }
   }
  },
  {
   "cell_type": "code",
   "execution_count": 20,
   "outputs": [
    {
     "name": "stdout",
     "output_type": "stream",
     "text": [
      "288\n"
     ]
    },
    {
     "data": {
      "text/plain": "<DatetimeArray>\n['2019-10-08 00:00:00-07:00', '2019-10-08 00:05:00-07:00',\n '2019-10-08 00:10:00-07:00', '2019-10-08 00:15:00-07:00',\n '2019-10-08 00:20:00-07:00', '2019-10-08 00:25:00-07:00',\n '2019-10-08 00:30:00-07:00', '2019-10-08 00:35:00-07:00',\n '2019-10-08 00:40:00-07:00', '2019-10-08 00:45:00-07:00',\n ...\n '2019-10-08 23:10:00-07:00', '2019-10-08 23:15:00-07:00',\n '2019-10-08 23:20:00-07:00', '2019-10-08 23:25:00-07:00',\n '2019-10-08 23:30:00-07:00', '2019-10-08 23:35:00-07:00',\n '2019-10-08 23:40:00-07:00', '2019-10-08 23:45:00-07:00',\n '2019-10-08 23:50:00-07:00', '2019-10-08 23:55:00-07:00']\nLength: 288, dtype: datetime64[ns, America/Los_Angeles]"
     },
     "execution_count": 20,
     "metadata": {},
     "output_type": "execute_result"
    }
   ],
   "source": [
    "# show the unique and the counts of unique values of timestamp\n",
    "# the total 5-minute interval should be 288\n",
    "print(df['timestamp'].nunique())\n",
    "df['timestamp'].unique()"
   ],
   "metadata": {
    "collapsed": false,
    "ExecuteTime": {
     "end_time": "2023-07-15T23:37:08.244353Z",
     "start_time": "2023-07-15T23:37:08.224378Z"
    }
   }
  },
  {
   "cell_type": "code",
   "execution_count": 42,
   "outputs": [],
   "source": [
    "STATION_DATA_PATH = 'raw_data/d12_text_meta_2019_11_05.txt'\n",
    "scols_to_keep = ['ID', 'Fwy', 'Dir', 'District', 'County', 'Abs_PM', 'Latitude', 'Longitude']\n",
    "sdf =  pd.read_csv(STATION_DATA_PATH, delimiter='\\t', usecols=scols_to_keep)"
   ],
   "metadata": {
    "collapsed": false,
    "ExecuteTime": {
     "end_time": "2023-07-16T05:30:19.292902Z",
     "start_time": "2023-07-16T05:30:19.280766Z"
    }
   }
  },
  {
   "cell_type": "code",
   "execution_count": 43,
   "outputs": [
    {
     "data": {
      "text/plain": "(2420, 8)"
     },
     "execution_count": 43,
     "metadata": {},
     "output_type": "execute_result"
    }
   ],
   "source": [
    "sdf.shape"
   ],
   "metadata": {
    "collapsed": false,
    "ExecuteTime": {
     "end_time": "2023-07-16T05:30:20.811205Z",
     "start_time": "2023-07-16T05:30:20.802586Z"
    }
   }
  },
  {
   "cell_type": "code",
   "execution_count": 44,
   "outputs": [
    {
     "data": {
      "text/plain": "ID           2420\nFwy            13\nDir             4\nDistrict        1\nCounty          1\nAbs_PM        858\nLatitude     1093\nLongitude    1097\ndtype: int64"
     },
     "execution_count": 44,
     "metadata": {},
     "output_type": "execute_result"
    }
   ],
   "source": [
    "sdf.nunique()"
   ],
   "metadata": {
    "collapsed": false,
    "ExecuteTime": {
     "end_time": "2023-07-16T05:30:21.665706Z",
     "start_time": "2023-07-16T05:30:21.657452Z"
    }
   }
  },
  {
   "cell_type": "code",
   "execution_count": 45,
   "outputs": [
    {
     "data": {
      "text/plain": "        ID  Fwy Dir  District  County  Abs_PM   Latitude   Longitude\n0  1201044  133   S        12      59   8.991  33.661840 -117.755300\n1  1201052  133   S        12      59   8.991  33.661840 -117.755300\n2  1201054  133   S        12      59   8.991  33.661840 -117.755300\n3  1201058  133   N        12      59   8.857  33.659542 -117.756294\n4  1201064  133   N        12      59   8.723  33.657392 -117.757636",
      "text/html": "<div>\n<style scoped>\n    .dataframe tbody tr th:only-of-type {\n        vertical-align: middle;\n    }\n\n    .dataframe tbody tr th {\n        vertical-align: top;\n    }\n\n    .dataframe thead th {\n        text-align: right;\n    }\n</style>\n<table border=\"1\" class=\"dataframe\">\n  <thead>\n    <tr style=\"text-align: right;\">\n      <th></th>\n      <th>ID</th>\n      <th>Fwy</th>\n      <th>Dir</th>\n      <th>District</th>\n      <th>County</th>\n      <th>Abs_PM</th>\n      <th>Latitude</th>\n      <th>Longitude</th>\n    </tr>\n  </thead>\n  <tbody>\n    <tr>\n      <th>0</th>\n      <td>1201044</td>\n      <td>133</td>\n      <td>S</td>\n      <td>12</td>\n      <td>59</td>\n      <td>8.991</td>\n      <td>33.661840</td>\n      <td>-117.755300</td>\n    </tr>\n    <tr>\n      <th>1</th>\n      <td>1201052</td>\n      <td>133</td>\n      <td>S</td>\n      <td>12</td>\n      <td>59</td>\n      <td>8.991</td>\n      <td>33.661840</td>\n      <td>-117.755300</td>\n    </tr>\n    <tr>\n      <th>2</th>\n      <td>1201054</td>\n      <td>133</td>\n      <td>S</td>\n      <td>12</td>\n      <td>59</td>\n      <td>8.991</td>\n      <td>33.661840</td>\n      <td>-117.755300</td>\n    </tr>\n    <tr>\n      <th>3</th>\n      <td>1201058</td>\n      <td>133</td>\n      <td>N</td>\n      <td>12</td>\n      <td>59</td>\n      <td>8.857</td>\n      <td>33.659542</td>\n      <td>-117.756294</td>\n    </tr>\n    <tr>\n      <th>4</th>\n      <td>1201064</td>\n      <td>133</td>\n      <td>N</td>\n      <td>12</td>\n      <td>59</td>\n      <td>8.723</td>\n      <td>33.657392</td>\n      <td>-117.757636</td>\n    </tr>\n  </tbody>\n</table>\n</div>"
     },
     "execution_count": 45,
     "metadata": {},
     "output_type": "execute_result"
    }
   ],
   "source": [
    "sdf.head()"
   ],
   "metadata": {
    "collapsed": false,
    "ExecuteTime": {
     "end_time": "2023-07-16T05:30:23.476260Z",
     "start_time": "2023-07-16T05:30:23.443552Z"
    }
   }
  },
  {
   "cell_type": "code",
   "execution_count": 47,
   "outputs": [
    {
     "data": {
      "text/plain": "ID             int64\nFwy            int64\nDir           object\nDistrict       int64\nCounty         int64\nAbs_PM       float64\nLatitude     float64\nLongitude    float64\ndtype: object"
     },
     "execution_count": 47,
     "metadata": {},
     "output_type": "execute_result"
    }
   ],
   "source": [
    "sdf.dtypes"
   ],
   "metadata": {
    "collapsed": false,
    "ExecuteTime": {
     "end_time": "2023-07-16T16:55:05.605890Z",
     "start_time": "2023-07-16T16:55:05.598436Z"
    }
   }
  },
  {
   "cell_type": "code",
   "execution_count": 48,
   "outputs": [],
   "source": [
    "sdf_col_names = ['station', 'freeway_num', 'direction', 'district', 'county', 'abs_pm', 'latitude', 'longitude']\n",
    "sdf.columns = sdf_col_names"
   ],
   "metadata": {
    "collapsed": false,
    "ExecuteTime": {
     "end_time": "2023-07-16T17:12:58.329064Z",
     "start_time": "2023-07-16T17:12:58.324305Z"
    }
   }
  },
  {
   "cell_type": "code",
   "execution_count": 49,
   "outputs": [
    {
     "data": {
      "text/plain": "   station  freeway_num direction  district  county  abs_pm   latitude  \\\n0  1201044          133         S        12      59   8.991  33.661840   \n1  1201052          133         S        12      59   8.991  33.661840   \n2  1201054          133         S        12      59   8.991  33.661840   \n3  1201058          133         N        12      59   8.857  33.659542   \n4  1201064          133         N        12      59   8.723  33.657392   \n\n    longitude  \n0 -117.755300  \n1 -117.755300  \n2 -117.755300  \n3 -117.756294  \n4 -117.757636  ",
      "text/html": "<div>\n<style scoped>\n    .dataframe tbody tr th:only-of-type {\n        vertical-align: middle;\n    }\n\n    .dataframe tbody tr th {\n        vertical-align: top;\n    }\n\n    .dataframe thead th {\n        text-align: right;\n    }\n</style>\n<table border=\"1\" class=\"dataframe\">\n  <thead>\n    <tr style=\"text-align: right;\">\n      <th></th>\n      <th>station</th>\n      <th>freeway_num</th>\n      <th>direction</th>\n      <th>district</th>\n      <th>county</th>\n      <th>abs_pm</th>\n      <th>latitude</th>\n      <th>longitude</th>\n    </tr>\n  </thead>\n  <tbody>\n    <tr>\n      <th>0</th>\n      <td>1201044</td>\n      <td>133</td>\n      <td>S</td>\n      <td>12</td>\n      <td>59</td>\n      <td>8.991</td>\n      <td>33.661840</td>\n      <td>-117.755300</td>\n    </tr>\n    <tr>\n      <th>1</th>\n      <td>1201052</td>\n      <td>133</td>\n      <td>S</td>\n      <td>12</td>\n      <td>59</td>\n      <td>8.991</td>\n      <td>33.661840</td>\n      <td>-117.755300</td>\n    </tr>\n    <tr>\n      <th>2</th>\n      <td>1201054</td>\n      <td>133</td>\n      <td>S</td>\n      <td>12</td>\n      <td>59</td>\n      <td>8.991</td>\n      <td>33.661840</td>\n      <td>-117.755300</td>\n    </tr>\n    <tr>\n      <th>3</th>\n      <td>1201058</td>\n      <td>133</td>\n      <td>N</td>\n      <td>12</td>\n      <td>59</td>\n      <td>8.857</td>\n      <td>33.659542</td>\n      <td>-117.756294</td>\n    </tr>\n    <tr>\n      <th>4</th>\n      <td>1201064</td>\n      <td>133</td>\n      <td>N</td>\n      <td>12</td>\n      <td>59</td>\n      <td>8.723</td>\n      <td>33.657392</td>\n      <td>-117.757636</td>\n    </tr>\n  </tbody>\n</table>\n</div>"
     },
     "execution_count": 49,
     "metadata": {},
     "output_type": "execute_result"
    }
   ],
   "source": [
    "sdf.head()"
   ],
   "metadata": {
    "collapsed": false,
    "ExecuteTime": {
     "end_time": "2023-07-16T17:13:06.397562Z",
     "start_time": "2023-07-16T17:13:06.394742Z"
    }
   }
  },
  {
   "cell_type": "code",
   "execution_count": 50,
   "outputs": [
    {
     "data": {
      "text/plain": "(443808, 12)"
     },
     "execution_count": 50,
     "metadata": {},
     "output_type": "execute_result"
    }
   ],
   "source": [
    "df.shape"
   ],
   "metadata": {
    "collapsed": false,
    "ExecuteTime": {
     "end_time": "2023-07-16T17:55:53.484866Z",
     "start_time": "2023-07-16T17:55:53.478808Z"
    }
   }
  },
  {
   "cell_type": "code",
   "execution_count": 51,
   "outputs": [
    {
     "name": "stdout",
     "output_type": "stream",
     "text": [
      "(443808, 15)\n"
     ]
    },
    {
     "data": {
      "text/plain": "(443808, 15)"
     },
     "execution_count": 51,
     "metadata": {},
     "output_type": "execute_result"
    }
   ],
   "source": [
    "# merge df with sdf\n",
    "merged_df = pd.merge(df, sdf[['station', 'abs_pm', 'latitude', 'longitude']], on='station', how='left')\n",
    "print(merged_df.shape)"
   ],
   "metadata": {
    "collapsed": false,
    "ExecuteTime": {
     "end_time": "2023-07-16T17:56:12.340223Z",
     "start_time": "2023-07-16T17:56:12.238649Z"
    }
   }
  },
  {
   "cell_type": "code",
   "execution_count": 52,
   "outputs": [
    {
     "data": {
      "text/plain": "                  timestamp  station  district  freeway_num direction  \\\n0 2019-10-08 00:00:00-07:00  1201054        12          133         S   \n1 2019-10-08 00:00:00-07:00  1201066        12          133         N   \n2 2019-10-08 00:00:00-07:00  1201076        12          133         N   \n3 2019-10-08 00:00:00-07:00  1201085        12          405         S   \n4 2019-10-08 00:00:00-07:00  1201087        12          405         S   \n\n  lane_type  station_length  samples  pct_observed  total_flow  avg_occupancy  \\\n0        ML           1.285       30           100         8.0         0.0038   \n1        ML           0.670       20           100        11.0         0.0044   \n2        ML           0.185        0             0        44.0         0.0292   \n3        HV           0.180       10           100         3.0         0.0022   \n4        ML           0.180       50           100        67.0         0.0066   \n\n   avg_speed  abs_pm   latitude   longitude  \n0       68.8   8.991  33.661840 -117.755300  \n1       65.7   8.991  33.661697 -117.754967  \n2       60.9   9.091  33.663305 -117.753976  \n3       65.0   0.540  33.647015 -117.744091  \n4       72.1   0.540  33.647015 -117.744091  ",
      "text/html": "<div>\n<style scoped>\n    .dataframe tbody tr th:only-of-type {\n        vertical-align: middle;\n    }\n\n    .dataframe tbody tr th {\n        vertical-align: top;\n    }\n\n    .dataframe thead th {\n        text-align: right;\n    }\n</style>\n<table border=\"1\" class=\"dataframe\">\n  <thead>\n    <tr style=\"text-align: right;\">\n      <th></th>\n      <th>timestamp</th>\n      <th>station</th>\n      <th>district</th>\n      <th>freeway_num</th>\n      <th>direction</th>\n      <th>lane_type</th>\n      <th>station_length</th>\n      <th>samples</th>\n      <th>pct_observed</th>\n      <th>total_flow</th>\n      <th>avg_occupancy</th>\n      <th>avg_speed</th>\n      <th>abs_pm</th>\n      <th>latitude</th>\n      <th>longitude</th>\n    </tr>\n  </thead>\n  <tbody>\n    <tr>\n      <th>0</th>\n      <td>2019-10-08 00:00:00-07:00</td>\n      <td>1201054</td>\n      <td>12</td>\n      <td>133</td>\n      <td>S</td>\n      <td>ML</td>\n      <td>1.285</td>\n      <td>30</td>\n      <td>100</td>\n      <td>8.0</td>\n      <td>0.0038</td>\n      <td>68.8</td>\n      <td>8.991</td>\n      <td>33.661840</td>\n      <td>-117.755300</td>\n    </tr>\n    <tr>\n      <th>1</th>\n      <td>2019-10-08 00:00:00-07:00</td>\n      <td>1201066</td>\n      <td>12</td>\n      <td>133</td>\n      <td>N</td>\n      <td>ML</td>\n      <td>0.670</td>\n      <td>20</td>\n      <td>100</td>\n      <td>11.0</td>\n      <td>0.0044</td>\n      <td>65.7</td>\n      <td>8.991</td>\n      <td>33.661697</td>\n      <td>-117.754967</td>\n    </tr>\n    <tr>\n      <th>2</th>\n      <td>2019-10-08 00:00:00-07:00</td>\n      <td>1201076</td>\n      <td>12</td>\n      <td>133</td>\n      <td>N</td>\n      <td>ML</td>\n      <td>0.185</td>\n      <td>0</td>\n      <td>0</td>\n      <td>44.0</td>\n      <td>0.0292</td>\n      <td>60.9</td>\n      <td>9.091</td>\n      <td>33.663305</td>\n      <td>-117.753976</td>\n    </tr>\n    <tr>\n      <th>3</th>\n      <td>2019-10-08 00:00:00-07:00</td>\n      <td>1201085</td>\n      <td>12</td>\n      <td>405</td>\n      <td>S</td>\n      <td>HV</td>\n      <td>0.180</td>\n      <td>10</td>\n      <td>100</td>\n      <td>3.0</td>\n      <td>0.0022</td>\n      <td>65.0</td>\n      <td>0.540</td>\n      <td>33.647015</td>\n      <td>-117.744091</td>\n    </tr>\n    <tr>\n      <th>4</th>\n      <td>2019-10-08 00:00:00-07:00</td>\n      <td>1201087</td>\n      <td>12</td>\n      <td>405</td>\n      <td>S</td>\n      <td>ML</td>\n      <td>0.180</td>\n      <td>50</td>\n      <td>100</td>\n      <td>67.0</td>\n      <td>0.0066</td>\n      <td>72.1</td>\n      <td>0.540</td>\n      <td>33.647015</td>\n      <td>-117.744091</td>\n    </tr>\n  </tbody>\n</table>\n</div>"
     },
     "execution_count": 52,
     "metadata": {},
     "output_type": "execute_result"
    }
   ],
   "source": [
    "merged_df.head()"
   ],
   "metadata": {
    "collapsed": false,
    "ExecuteTime": {
     "end_time": "2023-07-16T17:56:29.348327Z",
     "start_time": "2023-07-16T17:56:29.340549Z"
    }
   }
  },
  {
   "cell_type": "code",
   "execution_count": 53,
   "outputs": [
    {
     "name": "stdout",
     "output_type": "stream",
     "text": [
      "(16704, 15)\n"
     ]
    }
   ],
   "source": [
    "df_405N_ML = merged_df[(merged_df['freeway_num']==405) & (merged_df['direction']=='N') & (merged_df['lane_type']=='ML')]\n",
    "print(df_405N_ML.shape)"
   ],
   "metadata": {
    "collapsed": false,
    "ExecuteTime": {
     "end_time": "2023-07-16T18:06:10.833714Z",
     "start_time": "2023-07-16T18:06:10.765098Z"
    }
   }
  },
  {
   "cell_type": "code",
   "execution_count": 57,
   "outputs": [
    {
     "data": {
      "text/plain": "                   timestamp  station  district  freeway_num direction  \\\n5  2019-10-08 00:00:00-07:00  1201100        12          405         N   \n9  2019-10-08 00:00:00-07:00  1201125        12          405         N   \n15 2019-10-08 00:00:00-07:00  1201159        12          405         N   \n18 2019-10-08 00:00:00-07:00  1201185        12          405         N   \n21 2019-10-08 00:00:00-07:00  1201211        12          405         N   \n\n   lane_type  station_length  samples  pct_observed  total_flow  \\\n5         ML           0.255       50           100        37.0   \n9         ML           0.320       60            67        44.0   \n15        ML           0.210       50           100        43.0   \n18        ML           0.360       39           100        79.0   \n21        ML           0.575       39           100        77.0   \n\n    avg_occupancy  avg_speed  abs_pm   latitude   longitude  \n5          0.0045       72.6    0.70  33.648090 -117.746598  \n9          0.0037       69.6    0.88  33.648958 -117.749550  \n15         0.0038       73.3    2.81  33.659163 -117.780107  \n18         0.0156       68.0    3.63  33.663379 -117.793258  \n21         0.0145       69.1    3.80  33.663798 -117.796176  ",
      "text/html": "<div>\n<style scoped>\n    .dataframe tbody tr th:only-of-type {\n        vertical-align: middle;\n    }\n\n    .dataframe tbody tr th {\n        vertical-align: top;\n    }\n\n    .dataframe thead th {\n        text-align: right;\n    }\n</style>\n<table border=\"1\" class=\"dataframe\">\n  <thead>\n    <tr style=\"text-align: right;\">\n      <th></th>\n      <th>timestamp</th>\n      <th>station</th>\n      <th>district</th>\n      <th>freeway_num</th>\n      <th>direction</th>\n      <th>lane_type</th>\n      <th>station_length</th>\n      <th>samples</th>\n      <th>pct_observed</th>\n      <th>total_flow</th>\n      <th>avg_occupancy</th>\n      <th>avg_speed</th>\n      <th>abs_pm</th>\n      <th>latitude</th>\n      <th>longitude</th>\n    </tr>\n  </thead>\n  <tbody>\n    <tr>\n      <th>5</th>\n      <td>2019-10-08 00:00:00-07:00</td>\n      <td>1201100</td>\n      <td>12</td>\n      <td>405</td>\n      <td>N</td>\n      <td>ML</td>\n      <td>0.255</td>\n      <td>50</td>\n      <td>100</td>\n      <td>37.0</td>\n      <td>0.0045</td>\n      <td>72.6</td>\n      <td>0.70</td>\n      <td>33.648090</td>\n      <td>-117.746598</td>\n    </tr>\n    <tr>\n      <th>9</th>\n      <td>2019-10-08 00:00:00-07:00</td>\n      <td>1201125</td>\n      <td>12</td>\n      <td>405</td>\n      <td>N</td>\n      <td>ML</td>\n      <td>0.320</td>\n      <td>60</td>\n      <td>67</td>\n      <td>44.0</td>\n      <td>0.0037</td>\n      <td>69.6</td>\n      <td>0.88</td>\n      <td>33.648958</td>\n      <td>-117.749550</td>\n    </tr>\n    <tr>\n      <th>15</th>\n      <td>2019-10-08 00:00:00-07:00</td>\n      <td>1201159</td>\n      <td>12</td>\n      <td>405</td>\n      <td>N</td>\n      <td>ML</td>\n      <td>0.210</td>\n      <td>50</td>\n      <td>100</td>\n      <td>43.0</td>\n      <td>0.0038</td>\n      <td>73.3</td>\n      <td>2.81</td>\n      <td>33.659163</td>\n      <td>-117.780107</td>\n    </tr>\n    <tr>\n      <th>18</th>\n      <td>2019-10-08 00:00:00-07:00</td>\n      <td>1201185</td>\n      <td>12</td>\n      <td>405</td>\n      <td>N</td>\n      <td>ML</td>\n      <td>0.360</td>\n      <td>39</td>\n      <td>100</td>\n      <td>79.0</td>\n      <td>0.0156</td>\n      <td>68.0</td>\n      <td>3.63</td>\n      <td>33.663379</td>\n      <td>-117.793258</td>\n    </tr>\n    <tr>\n      <th>21</th>\n      <td>2019-10-08 00:00:00-07:00</td>\n      <td>1201211</td>\n      <td>12</td>\n      <td>405</td>\n      <td>N</td>\n      <td>ML</td>\n      <td>0.575</td>\n      <td>39</td>\n      <td>100</td>\n      <td>77.0</td>\n      <td>0.0145</td>\n      <td>69.1</td>\n      <td>3.80</td>\n      <td>33.663798</td>\n      <td>-117.796176</td>\n    </tr>\n  </tbody>\n</table>\n</div>"
     },
     "execution_count": 57,
     "metadata": {},
     "output_type": "execute_result"
    }
   ],
   "source": [
    "df_405N_ML.head()"
   ],
   "metadata": {
    "collapsed": false,
    "ExecuteTime": {
     "end_time": "2023-07-16T18:09:24.504662Z",
     "start_time": "2023-07-16T18:09:24.496625Z"
    }
   }
  },
  {
   "cell_type": "code",
   "execution_count": 62,
   "outputs": [
    {
     "data": {
      "text/plain": "                      timestamp  station  district  freeway_num direction  \\\n0     2019-10-08 00:00:00-07:00  1211066        12          405         N   \n1     2019-10-08 00:05:00-07:00  1211066        12          405         N   \n2     2019-10-08 00:10:00-07:00  1211066        12          405         N   \n3     2019-10-08 00:15:00-07:00  1211066        12          405         N   \n4     2019-10-08 00:20:00-07:00  1211066        12          405         N   \n...                         ...      ...       ...          ...       ...   \n16699 2019-10-08 23:35:00-07:00  1221562        12          405         N   \n16700 2019-10-08 23:40:00-07:00  1221562        12          405         N   \n16701 2019-10-08 23:45:00-07:00  1221562        12          405         N   \n16702 2019-10-08 23:50:00-07:00  1221562        12          405         N   \n16703 2019-10-08 23:55:00-07:00  1221562        12          405         N   \n\n      lane_type  station_length  samples  pct_observed  total_flow  \\\n0            ML           0.535       13           100        14.0   \n1            ML           0.535       14           100         0.0   \n2            ML           0.535       12           100         0.0   \n3            ML           0.535        9           100         0.0   \n4            ML           0.535       13           100         0.0   \n...         ...             ...      ...           ...         ...   \n16699        ML           0.445       40           100        87.0   \n16700        ML           0.445       40           100        98.0   \n16701        ML           0.445       40           100        88.0   \n16702        ML           0.445       40           100        94.0   \n16703        ML           0.445       40           100        94.0   \n\n       avg_occupancy  avg_speed  abs_pm   latitude   longitude  \n0             0.0024       67.7   0.370  33.646486 -117.741156  \n1             0.0000       68.1   0.370  33.646486 -117.741156  \n2             0.0000       68.1   0.370  33.646486 -117.741156  \n3             0.0000       68.1   0.370  33.646486 -117.741156  \n4             0.0000       68.1   0.370  33.646486 -117.741156  \n...              ...        ...     ...        ...         ...  \n16699         0.0168       69.4  23.699  33.782868 -118.090872  \n16700         0.0194       69.2  23.699  33.782868 -118.090872  \n16701         0.0173       69.3  23.699  33.782868 -118.090872  \n16702         0.0187       69.4  23.699  33.782868 -118.090872  \n16703         0.0203       69.4  23.699  33.782868 -118.090872  \n\n[16704 rows x 15 columns]",
      "text/html": "<div>\n<style scoped>\n    .dataframe tbody tr th:only-of-type {\n        vertical-align: middle;\n    }\n\n    .dataframe tbody tr th {\n        vertical-align: top;\n    }\n\n    .dataframe thead th {\n        text-align: right;\n    }\n</style>\n<table border=\"1\" class=\"dataframe\">\n  <thead>\n    <tr style=\"text-align: right;\">\n      <th></th>\n      <th>timestamp</th>\n      <th>station</th>\n      <th>district</th>\n      <th>freeway_num</th>\n      <th>direction</th>\n      <th>lane_type</th>\n      <th>station_length</th>\n      <th>samples</th>\n      <th>pct_observed</th>\n      <th>total_flow</th>\n      <th>avg_occupancy</th>\n      <th>avg_speed</th>\n      <th>abs_pm</th>\n      <th>latitude</th>\n      <th>longitude</th>\n    </tr>\n  </thead>\n  <tbody>\n    <tr>\n      <th>0</th>\n      <td>2019-10-08 00:00:00-07:00</td>\n      <td>1211066</td>\n      <td>12</td>\n      <td>405</td>\n      <td>N</td>\n      <td>ML</td>\n      <td>0.535</td>\n      <td>13</td>\n      <td>100</td>\n      <td>14.0</td>\n      <td>0.0024</td>\n      <td>67.7</td>\n      <td>0.370</td>\n      <td>33.646486</td>\n      <td>-117.741156</td>\n    </tr>\n    <tr>\n      <th>1</th>\n      <td>2019-10-08 00:05:00-07:00</td>\n      <td>1211066</td>\n      <td>12</td>\n      <td>405</td>\n      <td>N</td>\n      <td>ML</td>\n      <td>0.535</td>\n      <td>14</td>\n      <td>100</td>\n      <td>0.0</td>\n      <td>0.0000</td>\n      <td>68.1</td>\n      <td>0.370</td>\n      <td>33.646486</td>\n      <td>-117.741156</td>\n    </tr>\n    <tr>\n      <th>2</th>\n      <td>2019-10-08 00:10:00-07:00</td>\n      <td>1211066</td>\n      <td>12</td>\n      <td>405</td>\n      <td>N</td>\n      <td>ML</td>\n      <td>0.535</td>\n      <td>12</td>\n      <td>100</td>\n      <td>0.0</td>\n      <td>0.0000</td>\n      <td>68.1</td>\n      <td>0.370</td>\n      <td>33.646486</td>\n      <td>-117.741156</td>\n    </tr>\n    <tr>\n      <th>3</th>\n      <td>2019-10-08 00:15:00-07:00</td>\n      <td>1211066</td>\n      <td>12</td>\n      <td>405</td>\n      <td>N</td>\n      <td>ML</td>\n      <td>0.535</td>\n      <td>9</td>\n      <td>100</td>\n      <td>0.0</td>\n      <td>0.0000</td>\n      <td>68.1</td>\n      <td>0.370</td>\n      <td>33.646486</td>\n      <td>-117.741156</td>\n    </tr>\n    <tr>\n      <th>4</th>\n      <td>2019-10-08 00:20:00-07:00</td>\n      <td>1211066</td>\n      <td>12</td>\n      <td>405</td>\n      <td>N</td>\n      <td>ML</td>\n      <td>0.535</td>\n      <td>13</td>\n      <td>100</td>\n      <td>0.0</td>\n      <td>0.0000</td>\n      <td>68.1</td>\n      <td>0.370</td>\n      <td>33.646486</td>\n      <td>-117.741156</td>\n    </tr>\n    <tr>\n      <th>...</th>\n      <td>...</td>\n      <td>...</td>\n      <td>...</td>\n      <td>...</td>\n      <td>...</td>\n      <td>...</td>\n      <td>...</td>\n      <td>...</td>\n      <td>...</td>\n      <td>...</td>\n      <td>...</td>\n      <td>...</td>\n      <td>...</td>\n      <td>...</td>\n      <td>...</td>\n    </tr>\n    <tr>\n      <th>16699</th>\n      <td>2019-10-08 23:35:00-07:00</td>\n      <td>1221562</td>\n      <td>12</td>\n      <td>405</td>\n      <td>N</td>\n      <td>ML</td>\n      <td>0.445</td>\n      <td>40</td>\n      <td>100</td>\n      <td>87.0</td>\n      <td>0.0168</td>\n      <td>69.4</td>\n      <td>23.699</td>\n      <td>33.782868</td>\n      <td>-118.090872</td>\n    </tr>\n    <tr>\n      <th>16700</th>\n      <td>2019-10-08 23:40:00-07:00</td>\n      <td>1221562</td>\n      <td>12</td>\n      <td>405</td>\n      <td>N</td>\n      <td>ML</td>\n      <td>0.445</td>\n      <td>40</td>\n      <td>100</td>\n      <td>98.0</td>\n      <td>0.0194</td>\n      <td>69.2</td>\n      <td>23.699</td>\n      <td>33.782868</td>\n      <td>-118.090872</td>\n    </tr>\n    <tr>\n      <th>16701</th>\n      <td>2019-10-08 23:45:00-07:00</td>\n      <td>1221562</td>\n      <td>12</td>\n      <td>405</td>\n      <td>N</td>\n      <td>ML</td>\n      <td>0.445</td>\n      <td>40</td>\n      <td>100</td>\n      <td>88.0</td>\n      <td>0.0173</td>\n      <td>69.3</td>\n      <td>23.699</td>\n      <td>33.782868</td>\n      <td>-118.090872</td>\n    </tr>\n    <tr>\n      <th>16702</th>\n      <td>2019-10-08 23:50:00-07:00</td>\n      <td>1221562</td>\n      <td>12</td>\n      <td>405</td>\n      <td>N</td>\n      <td>ML</td>\n      <td>0.445</td>\n      <td>40</td>\n      <td>100</td>\n      <td>94.0</td>\n      <td>0.0187</td>\n      <td>69.4</td>\n      <td>23.699</td>\n      <td>33.782868</td>\n      <td>-118.090872</td>\n    </tr>\n    <tr>\n      <th>16703</th>\n      <td>2019-10-08 23:55:00-07:00</td>\n      <td>1221562</td>\n      <td>12</td>\n      <td>405</td>\n      <td>N</td>\n      <td>ML</td>\n      <td>0.445</td>\n      <td>40</td>\n      <td>100</td>\n      <td>94.0</td>\n      <td>0.0203</td>\n      <td>69.4</td>\n      <td>23.699</td>\n      <td>33.782868</td>\n      <td>-118.090872</td>\n    </tr>\n  </tbody>\n</table>\n<p>16704 rows × 15 columns</p>\n</div>"
     },
     "execution_count": 62,
     "metadata": {},
     "output_type": "execute_result"
    }
   ],
   "source": [
    "df_405N_ML.sort_values(['abs_pm', 'timestamp']).reset_index(drop=True)"
   ],
   "metadata": {
    "collapsed": false,
    "ExecuteTime": {
     "end_time": "2023-07-17T16:39:47.639348Z",
     "start_time": "2023-07-17T16:39:47.604692Z"
    }
   }
  },
  {
   "cell_type": "code",
   "execution_count": 127,
   "outputs": [
    {
     "data": {
      "text/plain": "                   timestamp  station  district  freeway_num direction  \\\n5  2019-10-08 00:00:00-07:00  1201100        12          405         N   \n9  2019-10-08 00:00:00-07:00  1201125        12          405         N   \n15 2019-10-08 00:00:00-07:00  1201159        12          405         N   \n18 2019-10-08 00:00:00-07:00  1201185        12          405         N   \n21 2019-10-08 00:00:00-07:00  1201211        12          405         N   \n\n   lane_type  station_length  samples  pct_observed  total_flow  \\\n5         ML           0.255       50           100        37.0   \n9         ML           0.320       60            67         NaN   \n15        ML           0.210       50           100        43.0   \n18        ML           0.360       39           100        79.0   \n21        ML           0.575       39           100        77.0   \n\n    avg_occupancy  avg_speed  abs_pm   latitude   longitude  \n5          0.0045       72.6    0.70  33.648090 -117.746598  \n9          0.0037       69.6    0.88  33.648958 -117.749550  \n15         0.0038       73.3    2.81  33.659163 -117.780107  \n18         0.0156       68.0    3.63  33.663379 -117.793258  \n21         0.0145       69.1    3.80  33.663798 -117.796176  ",
      "text/html": "<div>\n<style scoped>\n    .dataframe tbody tr th:only-of-type {\n        vertical-align: middle;\n    }\n\n    .dataframe tbody tr th {\n        vertical-align: top;\n    }\n\n    .dataframe thead th {\n        text-align: right;\n    }\n</style>\n<table border=\"1\" class=\"dataframe\">\n  <thead>\n    <tr style=\"text-align: right;\">\n      <th></th>\n      <th>timestamp</th>\n      <th>station</th>\n      <th>district</th>\n      <th>freeway_num</th>\n      <th>direction</th>\n      <th>lane_type</th>\n      <th>station_length</th>\n      <th>samples</th>\n      <th>pct_observed</th>\n      <th>total_flow</th>\n      <th>avg_occupancy</th>\n      <th>avg_speed</th>\n      <th>abs_pm</th>\n      <th>latitude</th>\n      <th>longitude</th>\n    </tr>\n  </thead>\n  <tbody>\n    <tr>\n      <th>5</th>\n      <td>2019-10-08 00:00:00-07:00</td>\n      <td>1201100</td>\n      <td>12</td>\n      <td>405</td>\n      <td>N</td>\n      <td>ML</td>\n      <td>0.255</td>\n      <td>50</td>\n      <td>100</td>\n      <td>37.0</td>\n      <td>0.0045</td>\n      <td>72.6</td>\n      <td>0.70</td>\n      <td>33.648090</td>\n      <td>-117.746598</td>\n    </tr>\n    <tr>\n      <th>9</th>\n      <td>2019-10-08 00:00:00-07:00</td>\n      <td>1201125</td>\n      <td>12</td>\n      <td>405</td>\n      <td>N</td>\n      <td>ML</td>\n      <td>0.320</td>\n      <td>60</td>\n      <td>67</td>\n      <td>NaN</td>\n      <td>0.0037</td>\n      <td>69.6</td>\n      <td>0.88</td>\n      <td>33.648958</td>\n      <td>-117.749550</td>\n    </tr>\n    <tr>\n      <th>15</th>\n      <td>2019-10-08 00:00:00-07:00</td>\n      <td>1201159</td>\n      <td>12</td>\n      <td>405</td>\n      <td>N</td>\n      <td>ML</td>\n      <td>0.210</td>\n      <td>50</td>\n      <td>100</td>\n      <td>43.0</td>\n      <td>0.0038</td>\n      <td>73.3</td>\n      <td>2.81</td>\n      <td>33.659163</td>\n      <td>-117.780107</td>\n    </tr>\n    <tr>\n      <th>18</th>\n      <td>2019-10-08 00:00:00-07:00</td>\n      <td>1201185</td>\n      <td>12</td>\n      <td>405</td>\n      <td>N</td>\n      <td>ML</td>\n      <td>0.360</td>\n      <td>39</td>\n      <td>100</td>\n      <td>79.0</td>\n      <td>0.0156</td>\n      <td>68.0</td>\n      <td>3.63</td>\n      <td>33.663379</td>\n      <td>-117.793258</td>\n    </tr>\n    <tr>\n      <th>21</th>\n      <td>2019-10-08 00:00:00-07:00</td>\n      <td>1201211</td>\n      <td>12</td>\n      <td>405</td>\n      <td>N</td>\n      <td>ML</td>\n      <td>0.575</td>\n      <td>39</td>\n      <td>100</td>\n      <td>77.0</td>\n      <td>0.0145</td>\n      <td>69.1</td>\n      <td>3.80</td>\n      <td>33.663798</td>\n      <td>-117.796176</td>\n    </tr>\n  </tbody>\n</table>\n</div>"
     },
     "execution_count": 127,
     "metadata": {},
     "output_type": "execute_result"
    }
   ],
   "source": [
    "# replace the flow with Null is the pct is lower than 80\n",
    "pct_observed_mask = df_405N_ML['pct_observed'] < 70\n",
    "df_405N_ML.loc[pct_observed_mask, 'total_flow'] = np.nan\n",
    "df_405N_ML.head()"
   ],
   "metadata": {
    "collapsed": false,
    "ExecuteTime": {
     "end_time": "2023-07-17T21:41:21.991569Z",
     "start_time": "2023-07-17T21:41:21.982050Z"
    }
   }
  },
  {
   "cell_type": "code",
   "execution_count": 204,
   "outputs": [
    {
     "data": {
      "text/plain": "timestamp  2019-10-08 00:00:00-07:00  2019-10-08 00:05:00-07:00  \\\nstation                                                           \n1201100                         37.0                       43.0   \n1201125                          NaN                        NaN   \n1201159                         43.0                       41.0   \n1201185                         79.0                       59.0   \n1201211                         77.0                       62.0   \n\ntimestamp  2019-10-08 00:10:00-07:00  2019-10-08 00:15:00-07:00  \\\nstation                                                           \n1201100                         45.0                       56.0   \n1201125                          NaN                        NaN   \n1201159                         44.0                       51.0   \n1201185                         67.0                       66.0   \n1201211                         65.0                       69.0   \n\ntimestamp  2019-10-08 00:20:00-07:00  2019-10-08 00:25:00-07:00  \\\nstation                                                           \n1201100                         42.0                       37.0   \n1201125                          NaN                        NaN   \n1201159                         46.0                       46.0   \n1201185                         71.0                       66.0   \n1201211                         76.0                       64.0   \n\ntimestamp  2019-10-08 00:30:00-07:00  2019-10-08 00:35:00-07:00  \\\nstation                                                           \n1201100                         41.0                       32.0   \n1201125                          NaN                        NaN   \n1201159                         32.0                       37.0   \n1201185                         46.0                       57.0   \n1201211                         46.0                       57.0   \n\ntimestamp  2019-10-08 00:40:00-07:00  2019-10-08 00:45:00-07:00  ...  \\\nstation                                                          ...   \n1201100                         48.0                       38.0  ...   \n1201125                          NaN                        NaN  ...   \n1201159                         42.0                       33.0  ...   \n1201185                         51.0                       48.0  ...   \n1201211                         54.0                       53.0  ...   \n\ntimestamp  2019-10-08 23:10:00-07:00  2019-10-08 23:15:00-07:00  \\\nstation                                                           \n1201100                         97.0                       75.0   \n1201125                          NaN                        NaN   \n1201159                         97.0                       84.0   \n1201185                        141.0                      116.0   \n1201211                        140.0                      119.0   \n\ntimestamp  2019-10-08 23:20:00-07:00  2019-10-08 23:25:00-07:00  \\\nstation                                                           \n1201100                         66.0                       55.0   \n1201125                          NaN                        NaN   \n1201159                         74.0                       64.0   \n1201185                        106.0                       87.0   \n1201211                        106.0                       86.0   \n\ntimestamp  2019-10-08 23:30:00-07:00  2019-10-08 23:35:00-07:00  \\\nstation                                                           \n1201100                         56.0                       67.0   \n1201125                          NaN                        NaN   \n1201159                         57.0                       65.0   \n1201185                         92.0                       89.0   \n1201211                         93.0                       90.0   \n\ntimestamp  2019-10-08 23:40:00-07:00  2019-10-08 23:45:00-07:00  \\\nstation                                                           \n1201100                         73.0                       72.0   \n1201125                          NaN                        NaN   \n1201159                         71.0                       66.0   \n1201185                        100.0                      100.0   \n1201211                        100.0                       99.0   \n\ntimestamp  2019-10-08 23:50:00-07:00  2019-10-08 23:55:00-07:00  \nstation                                                          \n1201100                         51.0                       37.0  \n1201125                          NaN                        NaN  \n1201159                         65.0                       41.0  \n1201185                         87.0                       58.0  \n1201211                         58.0                       39.0  \n\n[5 rows x 288 columns]",
      "text/html": "<div>\n<style scoped>\n    .dataframe tbody tr th:only-of-type {\n        vertical-align: middle;\n    }\n\n    .dataframe tbody tr th {\n        vertical-align: top;\n    }\n\n    .dataframe thead th {\n        text-align: right;\n    }\n</style>\n<table border=\"1\" class=\"dataframe\">\n  <thead>\n    <tr style=\"text-align: right;\">\n      <th>timestamp</th>\n      <th>2019-10-08 00:00:00-07:00</th>\n      <th>2019-10-08 00:05:00-07:00</th>\n      <th>2019-10-08 00:10:00-07:00</th>\n      <th>2019-10-08 00:15:00-07:00</th>\n      <th>2019-10-08 00:20:00-07:00</th>\n      <th>2019-10-08 00:25:00-07:00</th>\n      <th>2019-10-08 00:30:00-07:00</th>\n      <th>2019-10-08 00:35:00-07:00</th>\n      <th>2019-10-08 00:40:00-07:00</th>\n      <th>2019-10-08 00:45:00-07:00</th>\n      <th>...</th>\n      <th>2019-10-08 23:10:00-07:00</th>\n      <th>2019-10-08 23:15:00-07:00</th>\n      <th>2019-10-08 23:20:00-07:00</th>\n      <th>2019-10-08 23:25:00-07:00</th>\n      <th>2019-10-08 23:30:00-07:00</th>\n      <th>2019-10-08 23:35:00-07:00</th>\n      <th>2019-10-08 23:40:00-07:00</th>\n      <th>2019-10-08 23:45:00-07:00</th>\n      <th>2019-10-08 23:50:00-07:00</th>\n      <th>2019-10-08 23:55:00-07:00</th>\n    </tr>\n    <tr>\n      <th>station</th>\n      <th></th>\n      <th></th>\n      <th></th>\n      <th></th>\n      <th></th>\n      <th></th>\n      <th></th>\n      <th></th>\n      <th></th>\n      <th></th>\n      <th></th>\n      <th></th>\n      <th></th>\n      <th></th>\n      <th></th>\n      <th></th>\n      <th></th>\n      <th></th>\n      <th></th>\n      <th></th>\n      <th></th>\n    </tr>\n  </thead>\n  <tbody>\n    <tr>\n      <th>1201100</th>\n      <td>37.0</td>\n      <td>43.0</td>\n      <td>45.0</td>\n      <td>56.0</td>\n      <td>42.0</td>\n      <td>37.0</td>\n      <td>41.0</td>\n      <td>32.0</td>\n      <td>48.0</td>\n      <td>38.0</td>\n      <td>...</td>\n      <td>97.0</td>\n      <td>75.0</td>\n      <td>66.0</td>\n      <td>55.0</td>\n      <td>56.0</td>\n      <td>67.0</td>\n      <td>73.0</td>\n      <td>72.0</td>\n      <td>51.0</td>\n      <td>37.0</td>\n    </tr>\n    <tr>\n      <th>1201125</th>\n      <td>NaN</td>\n      <td>NaN</td>\n      <td>NaN</td>\n      <td>NaN</td>\n      <td>NaN</td>\n      <td>NaN</td>\n      <td>NaN</td>\n      <td>NaN</td>\n      <td>NaN</td>\n      <td>NaN</td>\n      <td>...</td>\n      <td>NaN</td>\n      <td>NaN</td>\n      <td>NaN</td>\n      <td>NaN</td>\n      <td>NaN</td>\n      <td>NaN</td>\n      <td>NaN</td>\n      <td>NaN</td>\n      <td>NaN</td>\n      <td>NaN</td>\n    </tr>\n    <tr>\n      <th>1201159</th>\n      <td>43.0</td>\n      <td>41.0</td>\n      <td>44.0</td>\n      <td>51.0</td>\n      <td>46.0</td>\n      <td>46.0</td>\n      <td>32.0</td>\n      <td>37.0</td>\n      <td>42.0</td>\n      <td>33.0</td>\n      <td>...</td>\n      <td>97.0</td>\n      <td>84.0</td>\n      <td>74.0</td>\n      <td>64.0</td>\n      <td>57.0</td>\n      <td>65.0</td>\n      <td>71.0</td>\n      <td>66.0</td>\n      <td>65.0</td>\n      <td>41.0</td>\n    </tr>\n    <tr>\n      <th>1201185</th>\n      <td>79.0</td>\n      <td>59.0</td>\n      <td>67.0</td>\n      <td>66.0</td>\n      <td>71.0</td>\n      <td>66.0</td>\n      <td>46.0</td>\n      <td>57.0</td>\n      <td>51.0</td>\n      <td>48.0</td>\n      <td>...</td>\n      <td>141.0</td>\n      <td>116.0</td>\n      <td>106.0</td>\n      <td>87.0</td>\n      <td>92.0</td>\n      <td>89.0</td>\n      <td>100.0</td>\n      <td>100.0</td>\n      <td>87.0</td>\n      <td>58.0</td>\n    </tr>\n    <tr>\n      <th>1201211</th>\n      <td>77.0</td>\n      <td>62.0</td>\n      <td>65.0</td>\n      <td>69.0</td>\n      <td>76.0</td>\n      <td>64.0</td>\n      <td>46.0</td>\n      <td>57.0</td>\n      <td>54.0</td>\n      <td>53.0</td>\n      <td>...</td>\n      <td>140.0</td>\n      <td>119.0</td>\n      <td>106.0</td>\n      <td>86.0</td>\n      <td>93.0</td>\n      <td>90.0</td>\n      <td>100.0</td>\n      <td>99.0</td>\n      <td>58.0</td>\n      <td>39.0</td>\n    </tr>\n  </tbody>\n</table>\n<p>5 rows × 288 columns</p>\n</div>"
     },
     "execution_count": 204,
     "metadata": {},
     "output_type": "execute_result"
    }
   ],
   "source": [
    "df_405N_ML_pivot = df_405N_ML.pivot(index='station', columns='timestamp', values='total_flow')\n",
    "df_405N_ML_pivot.head()"
   ],
   "metadata": {
    "collapsed": false,
    "ExecuteTime": {
     "end_time": "2023-07-18T16:56:31.827605Z",
     "start_time": "2023-07-18T16:56:31.804425Z"
    }
   }
  },
  {
   "cell_type": "code",
   "execution_count": 205,
   "outputs": [
    {
     "name": "stdout",
     "output_type": "stream",
     "text": [
      "144.0\n"
     ]
    }
   ],
   "source": [
    "# drop the row if it includes mote than 50% of missing values\n",
    "df_405N_ML_pivot.isnull().sum(axis=1)\n",
    "threshold = len(df_405N_ML_pivot.columns) * 0.5\n",
    "print(threshold)"
   ],
   "metadata": {
    "collapsed": false,
    "ExecuteTime": {
     "end_time": "2023-07-18T16:56:38.955376Z",
     "start_time": "2023-07-18T16:56:38.941589Z"
    }
   }
  },
  {
   "cell_type": "code",
   "execution_count": 206,
   "outputs": [
    {
     "data": {
      "text/plain": "(41, 288)"
     },
     "execution_count": 206,
     "metadata": {},
     "output_type": "execute_result"
    }
   ],
   "source": [
    "df_405N_ML_p_dropped = df_405N_ML_pivot.dropna(thresh=threshold)\n",
    "df_405N_ML_p_dropped.shape"
   ],
   "metadata": {
    "collapsed": false,
    "ExecuteTime": {
     "end_time": "2023-07-18T16:56:40.270582Z",
     "start_time": "2023-07-18T16:56:40.257070Z"
    }
   }
  },
  {
   "cell_type": "code",
   "execution_count": 207,
   "outputs": [
    {
     "data": {
      "text/plain": "timestamp\n2019-10-08 00:00:00-07:00    1\n2019-10-08 00:05:00-07:00    1\n2019-10-08 00:10:00-07:00    1\n2019-10-08 00:15:00-07:00    2\n2019-10-08 00:20:00-07:00    2\n                            ..\n2019-10-08 23:35:00-07:00    0\n2019-10-08 23:40:00-07:00    0\n2019-10-08 23:45:00-07:00    1\n2019-10-08 23:50:00-07:00    1\n2019-10-08 23:55:00-07:00    1\nLength: 288, dtype: int64"
     },
     "execution_count": 207,
     "metadata": {},
     "output_type": "execute_result"
    }
   ],
   "source": [
    "# after dropping the missing rows, check missing columns\n",
    "# most missing values occur in the morning\n",
    "df_405N_ML_p_dropped.isnull().sum()"
   ],
   "metadata": {
    "collapsed": false,
    "ExecuteTime": {
     "end_time": "2023-07-18T16:56:42.728398Z",
     "start_time": "2023-07-18T16:56:42.714883Z"
    }
   }
  },
  {
   "cell_type": "code",
   "execution_count": 208,
   "outputs": [],
   "source": [
    "# merge with station df\n",
    "df_405N_ML_merged = pd.merge(df_405N_ML_p_dropped, sdf[['station', 'abs_pm', 'latitude', 'longitude']], on='station', how='left')"
   ],
   "metadata": {
    "collapsed": false,
    "ExecuteTime": {
     "end_time": "2023-07-18T16:56:46.054304Z",
     "start_time": "2023-07-18T16:56:46.040359Z"
    }
   }
  },
  {
   "cell_type": "code",
   "execution_count": 209,
   "outputs": [],
   "source": [
    "# rename all the columns\n",
    "pivot_col_names = [f\"{hour:02d}{minute:02d}\" for hour in range(0, 24) for minute in range(0, 60, 5)]\n",
    "pivot_col_names.insert(0, 'station')\n",
    "pivot_col_names.extend(['abs_pm', 'latitude', 'longitude'])"
   ],
   "metadata": {
    "collapsed": false,
    "ExecuteTime": {
     "end_time": "2023-07-18T16:56:47.136143Z",
     "start_time": "2023-07-18T16:56:47.126592Z"
    }
   }
  },
  {
   "cell_type": "code",
   "execution_count": 210,
   "outputs": [
    {
     "data": {
      "text/plain": "True"
     },
     "execution_count": 210,
     "metadata": {},
     "output_type": "execute_result"
    }
   ],
   "source": [
    "# checkpoint\n",
    "df_405N_ML_merged.shape[1] == len(pivot_col_names)"
   ],
   "metadata": {
    "collapsed": false,
    "ExecuteTime": {
     "end_time": "2023-07-18T16:56:50.076387Z",
     "start_time": "2023-07-18T16:56:50.065085Z"
    }
   }
  },
  {
   "cell_type": "code",
   "execution_count": 211,
   "outputs": [],
   "source": [
    "df_405N_ML_merged.columns = pivot_col_names"
   ],
   "metadata": {
    "collapsed": false,
    "ExecuteTime": {
     "end_time": "2023-07-18T16:56:51.649150Z",
     "start_time": "2023-07-18T16:56:51.640198Z"
    }
   }
  },
  {
   "cell_type": "code",
   "execution_count": 212,
   "outputs": [],
   "source": [
    "# interpolate the traffic flow in for all columns across rows\n",
    "df_405N_ML_interpolated = df_405N_ML_merged.copy()\n",
    "df_405N_ML_interpolated.iloc[:, 1:] = df_405N_ML_merged.iloc[:, 1:].interpolate()"
   ],
   "metadata": {
    "collapsed": false,
    "ExecuteTime": {
     "end_time": "2023-07-18T16:58:17.057206Z",
     "start_time": "2023-07-18T16:58:17.036395Z"
    }
   }
  },
  {
   "cell_type": "code",
   "execution_count": 213,
   "outputs": [
    {
     "data": {
      "text/plain": "0720    41\n0725    41\n0730    41\n0735    41\n0740    41\n        ..\n1240    41\n1245    41\n1250    41\n1255    41\n1300    41\nLength: 69, dtype: int64"
     },
     "execution_count": 213,
     "metadata": {},
     "output_type": "execute_result"
    }
   ],
   "source": [
    "# check missing values across columns\n",
    "# even after interpolating the columns, there are Null values for across rows.\n",
    "missing_flow_counts = df_405N_ML_interpolated.isnull().sum()\n",
    "missing_flow_counts[missing_flow_counts!=0]"
   ],
   "metadata": {
    "collapsed": false,
    "ExecuteTime": {
     "end_time": "2023-07-18T16:58:39.112866Z",
     "start_time": "2023-07-18T16:58:39.104685Z"
    }
   }
  },
  {
   "cell_type": "code",
   "execution_count": 214,
   "outputs": [],
   "source": [
    "# interpolate the rows\n",
    "df_405N_ML_interpolated.interpolate(axis=1, inplace=True)"
   ],
   "metadata": {
    "collapsed": false,
    "ExecuteTime": {
     "end_time": "2023-07-18T16:59:00.349581Z",
     "start_time": "2023-07-18T16:59:00.343780Z"
    }
   }
  },
  {
   "cell_type": "code",
   "execution_count": 215,
   "outputs": [
    {
     "data": {
      "text/plain": "(41, 292)"
     },
     "execution_count": 215,
     "metadata": {},
     "output_type": "execute_result"
    }
   ],
   "source": [
    "df_405N_ML_interpolated.shape"
   ],
   "metadata": {
    "collapsed": false,
    "ExecuteTime": {
     "end_time": "2023-07-18T16:59:11.431620Z",
     "start_time": "2023-07-18T16:59:11.426917Z"
    }
   }
  },
  {
   "cell_type": "code",
   "execution_count": 246,
   "outputs": [],
   "source": [
    "def plot_station_flow(interpolated_df, uninterpolated_df, num_intervals):\n",
    "     if num_intervals not in [3, 6, 9, 12]:\n",
    "          raise ValueError(\"'num_intervals' must be either 3, 6, 9, or 12.\")\n",
    "\n",
    "     # TODO: only slice the first row\n",
    "\n",
    "     fig, ax = plt.subplots(figsize=(20, 6))\n",
    "\n",
    "     # plot interpolated flow\n",
    "     time_of_day = interpolated_df.columns[1:-3]\n",
    "     interpolated_flow = interpolated_df.iloc[0, 1:-3]\n",
    "     ax.plot(time_of_day, interpolated_flow)\n",
    "\n",
    "     # plot uninterpolated flow\n",
    "     uninterpolated_flow = uninterpolated_df.iloc[0, 1:-3]\n",
    "     missing_flow = uninterpolated_flow[pd.isna(uninterpolated_flow)]\n",
    "     missing_flow_x = missing_flow.index\n",
    "     missing_flow_y = [interpolated_flow[time] for time in missing_flow_x]\n",
    "     ax.plot(missing_flow_x, missing_flow_y, 'ro', label='Interpolated Flow')\n",
    "\n",
    "     # only show every 15 minutes\n",
    "     xtick_position = range(0, len(time_of_day), num_intervals)\n",
    "     xtick_labels = time_of_day[::num_intervals]\n",
    "\n",
    "     # set ax xticks\n",
    "     ax.set_xticks(xtick_position)\n",
    "     ax.set_xticklabels(xtick_labels, rotation=90)\n",
    "\n",
    "     # set x-axis labels\n",
    "     ax.set_xlabel('Time')\n",
    "\n",
    "     # set y-axis labels\n",
    "     ax.set_ylabel('Total Flow')\n",
    "\n",
    "     # add a legend\n",
    "     ax.legend()\n",
    "\n",
    "     # show the plot\n",
    "     plt.show()\n",
    "\n"
   ],
   "metadata": {
    "collapsed": false,
    "ExecuteTime": {
     "end_time": "2023-07-18T17:57:16.486493Z",
     "start_time": "2023-07-18T17:57:16.482947Z"
    }
   }
  },
  {
   "cell_type": "code",
   "execution_count": 247,
   "outputs": [
    {
     "data": {
      "text/plain": "<Figure size 2000x600 with 1 Axes>",
      "image/png": "[encoded data removed]"
     },
     "metadata": {},
     "output_type": "display_data"
    }
   ],
   "source": [
    "plot_station_flow(df_405N_ML_interpolated, df_405N_ML_merged, 12)"
   ],
   "metadata": {
    "collapsed": false,
    "ExecuteTime": {
     "end_time": "2023-07-18T17:57:17.817867Z",
     "start_time": "2023-07-18T17:57:17.685214Z"
    }
   }
  },
  {
   "cell_type": "code",
   "execution_count": 276,
   "outputs": [
    {
     "data": {
      "text/plain": "    PM  traffic_flow  interpolated\n0  0.0         100.0           0.0\n1  0.1           NaN           NaN\n2  0.2         200.0           0.0\n3  0.3         350.0           0.0\n4  0.4         500.0           1.0\n5  0.5         600.0           0.0",
      "text/html": "<div>\n<style scoped>\n    .dataframe tbody tr th:only-of-type {\n        vertical-align: middle;\n    }\n\n    .dataframe tbody tr th {\n        vertical-align: top;\n    }\n\n    .dataframe thead th {\n        text-align: right;\n    }\n</style>\n<table border=\"1\" class=\"dataframe\">\n  <thead>\n    <tr style=\"text-align: right;\">\n      <th></th>\n      <th>PM</th>\n      <th>traffic_flow</th>\n      <th>interpolated</th>\n    </tr>\n  </thead>\n  <tbody>\n    <tr>\n      <th>0</th>\n      <td>0.0</td>\n      <td>100.0</td>\n      <td>0.0</td>\n    </tr>\n    <tr>\n      <th>1</th>\n      <td>0.1</td>\n      <td>NaN</td>\n      <td>NaN</td>\n    </tr>\n    <tr>\n      <th>2</th>\n      <td>0.2</td>\n      <td>200.0</td>\n      <td>0.0</td>\n    </tr>\n    <tr>\n      <th>3</th>\n      <td>0.3</td>\n      <td>350.0</td>\n      <td>0.0</td>\n    </tr>\n    <tr>\n      <th>4</th>\n      <td>0.4</td>\n      <td>500.0</td>\n      <td>1.0</td>\n    </tr>\n    <tr>\n      <th>5</th>\n      <td>0.5</td>\n      <td>600.0</td>\n      <td>0.0</td>\n    </tr>\n  </tbody>\n</table>\n</div>"
     },
     "execution_count": 276,
     "metadata": {},
     "output_type": "execute_result"
    }
   ],
   "source": [
    "df_a = pd.DataFrame({'PM': [0, 0.1, 0.2, 0.3, 0.4, 0.5]})\n",
    "df_c = pd.DataFrame({'PM': [0.03, 0.26, 0.35, 0.4, 0.49, 0.65], 'traffic_flow': [100, 200, 300, 400, np.nan, 600]})\n",
    "\n",
    "# Create a boolean column indicating if the value was interpolated\n",
    "df_c['interpolated'] = df_c['traffic_flow'].isna()\n",
    "\n",
    "# Interpolate missing traffic_flow values in df_c\n",
    "df_c['traffic_flow'] = df_c['traffic_flow'].interpolate()\n",
    "\n",
    "# Create interval bins\n",
    "bins = df_a['PM'].tolist() + [np.inf]\n",
    "\n",
    "# Assign each PM in df_c to an interval in df_a\n",
    "df_c['PM_range'] = pd.cut(df_c['PM'], bins=bins)\n",
    "\n",
    "# Group by PM_range and calculate mean traffic_flow and maximum interpolated\n",
    "traffic_flow_mean = df_c.groupby('PM_range').agg({'traffic_flow': 'mean', 'interpolated': 'max'}).reset_index()\n",
    "\n",
    "traffic_flow_mean['PM'] = traffic_flow_mean['PM_range'].apply(lambda x: x.left)\n",
    "\n",
    "# Merge the average traffic_flow and interpolated to df_a\n",
    "df_final = pd.merge(df_a, traffic_flow_mean, on='PM', how='left')\n",
    "\n",
    "# Clean up the final dataframe\n",
    "df_final = df_final.drop(columns='PM_range')\n",
    "df_final\n"
   ],
   "metadata": {
    "collapsed": false,
    "ExecuteTime": {
     "end_time": "2023-07-18T22:25:43.758821Z",
     "start_time": "2023-07-18T22:25:43.752667Z"
    }
   }
  },
  {
   "cell_type": "code",
   "execution_count": 282,
   "outputs": [
    {
     "data": {
      "text/plain": "<Figure size 500x400 with 1 Axes>",
      "image/png": "[encoded data removed]"
     },
     "metadata": {},
     "output_type": "display_data"
    }
   ],
   "source": [
    "import matplotlib.pyplot as plt\n",
    "\n",
    "df_d = pd.DataFrame({'PM': [0, 0.1, 0.2, 0.3, 0.4, 0.5],\n",
    "                     'traffic_flow': [100, 150, 200, 350, 500, 600],\n",
    "                     'interpolated': [False, True, False, False, True, False]})\n",
    "\n",
    "plt.figure(figsize=(5, 4))\n",
    "# Plot all points with a line\n",
    "plt.plot(df_d['PM'], df_d['traffic_flow'], color='blue')\n",
    "\n",
    "# Overplot the interpolated points with red color\n",
    "plt.scatter(df_d[df_d['interpolated']]['PM'],\n",
    "            df_d[df_d['interpolated']]['traffic_flow'],\n",
    "            color='red')\n",
    "\n",
    "plt.xlabel('PM')\n",
    "plt.ylabel('traffic_flow')\n",
    "plt.title('Traffic flow vs PM')\n",
    "plt.show()"
   ],
   "metadata": {
    "collapsed": false,
    "ExecuteTime": {
     "end_time": "2023-07-18T22:34:07.412928Z",
     "start_time": "2023-07-18T22:34:07.332496Z"
    }
   }
  },
  {
   "cell_type": "code",
   "execution_count": 285,
   "outputs": [
    {
     "data": {
      "text/plain": "<Figure size 500x300 with 1 Axes>",
      "image/png": "[encoded data removed]"
     },
     "metadata": {},
     "output_type": "display_data"
    }
   ],
   "source": [
    "import matplotlib.pyplot as plt\n",
    "\n",
    "df_d = pd.DataFrame({'PM': [0, 0.1, 0.2, 0.3, 0.4, 0.5],\n",
    "                     'traffic_flow': [100, 150, 200, 350, 500, 600],\n",
    "                     'interpolated': [False, True, False, False, True, False]})\n",
    "\n",
    "plt.figure(figsize=(5, 3))\n",
    "\n",
    "# Loop over each segment\n",
    "for i in range(len(df_d['PM']) - 1):\n",
    "    x = df_d['PM'].iloc[i:i+2]\n",
    "    y = df_d['traffic_flow'].iloc[i:i+2]\n",
    "\n",
    "    # If the current point is interpolated, the line to the next point is red, else blue\n",
    "    color = 'red' if df_d['interpolated'].iloc[i] else 'blue'\n",
    "    plt.plot(x, y, color=color)\n",
    "\n",
    "plt.xlabel('PM')\n",
    "plt.ylabel('traffic_flow')\n",
    "plt.title('Traffic flow vs PM')\n",
    "plt.show()"
   ],
   "metadata": {
    "collapsed": false,
    "ExecuteTime": {
     "end_time": "2023-07-18T22:41:09.445040Z",
     "start_time": "2023-07-18T22:41:09.380461Z"
    }
   }
  },
  {
   "cell_type": "markdown",
   "source": [
    "# Postmile data\n",
    "\n",
    "- X, Y are in EPSG:3857 format\n",
    "- Convert to EPSG:4326 format as X is lat, Y is long"
   ],
   "metadata": {
    "collapsed": false
   }
  },
  {
   "cell_type": "code",
   "execution_count": 295,
   "outputs": [],
   "source": [
    "RAW_POSTMILE_PATH = 'raw_data/SHN_Postmiles_Tenth.csv'\n",
    "pmcols_to_import = [0, 1, 3, 8, 10, 12, 16]\n",
    "pm_df = pd.read_csv(RAW_POSTMILE_PATH, usecols=pmcols_to_import)"
   ],
   "metadata": {
    "collapsed": false,
    "ExecuteTime": {
     "end_time": "2023-07-18T23:11:52.989884Z",
     "start_time": "2023-07-18T23:11:52.804231Z"
    }
   }
  },
  {
   "cell_type": "code",
   "execution_count": 296,
   "outputs": [
    {
     "data": {
      "text/plain": "X            float64\nY            float64\nRoute          int64\nDistrict       int64\nPM           float64\nPMc           object\nAlignCode     object\ndtype: object"
     },
     "execution_count": 296,
     "metadata": {},
     "output_type": "execute_result"
    }
   ],
   "source": [
    "pm_df.dtypes"
   ],
   "metadata": {
    "collapsed": false,
    "ExecuteTime": {
     "end_time": "2023-07-18T23:11:53.365260Z",
     "start_time": "2023-07-18T23:11:53.358966Z"
    }
   }
  },
  {
   "cell_type": "code",
   "execution_count": 294,
   "outputs": [
    {
     "data": {
      "text/plain": "array(['Left', 'Left Independent', 'Right', 'Right Independent'],\n      dtype=object)"
     },
     "execution_count": 294,
     "metadata": {},
     "output_type": "execute_result"
    }
   ],
   "source": [
    "pm_df['AlignCode'].unique()"
   ],
   "metadata": {
    "collapsed": false,
    "ExecuteTime": {
     "end_time": "2023-07-18T23:08:40.834275Z",
     "start_time": "2023-07-18T23:08:40.827484Z"
    }
   }
  },
  {
   "cell_type": "code",
   "execution_count": 300,
   "outputs": [
    {
     "data": {
      "text/plain": "                   X             Y  Route  District         PM      PMc  \\\n115532 -1.312789e+07  3.977852e+06     55        12   0.170000     0.17   \n115531 -1.312788e+07  3.977902e+06     55        12   0.200000      0.2   \n116604 -1.312782e+07  3.978096e+06     55        12   0.300000      0.3   \n117293 -1.312775e+07  3.978268e+06     55        12   0.400000      0.4   \n115530 -1.312771e+07  3.978452e+06     55        12   0.500000      0.5   \n...              ...           ...    ...       ...        ...      ...   \n115375 -1.311683e+07  4.007633e+06     55        12  17.600000     17.6   \n115373 -1.311683e+07  4.007634e+06     55        12  17.600000    R17.6   \n115372 -1.311668e+07  4.007752e+06     55        12  17.700001    R17.7   \n117787 -1.311653e+07  4.007813e+06     55        12  17.799999    R17.8   \n115371 -1.311641e+07  4.007848e+06     55        12  17.875999  R17.876   \n\n       AlignCode  \n115532     Right  \n115531     Right  \n116604     Right  \n117293     Right  \n115530     Right  \n...          ...  \n115375     Right  \n115373     Right  \n115372     Right  \n117787     Right  \n115371     Right  \n\n[185 rows x 7 columns]",
      "text/html": "<div>\n<style scoped>\n    .dataframe tbody tr th:only-of-type {\n        vertical-align: middle;\n    }\n\n    .dataframe tbody tr th {\n        vertical-align: top;\n    }\n\n    .dataframe thead th {\n        text-align: right;\n    }\n</style>\n<table border=\"1\" class=\"dataframe\">\n  <thead>\n    <tr style=\"text-align: right;\">\n      <th></th>\n      <th>X</th>\n      <th>Y</th>\n      <th>Route</th>\n      <th>District</th>\n      <th>PM</th>\n      <th>PMc</th>\n      <th>AlignCode</th>\n    </tr>\n  </thead>\n  <tbody>\n    <tr>\n      <th>115532</th>\n      <td>-1.312789e+07</td>\n      <td>3.977852e+06</td>\n      <td>55</td>\n      <td>12</td>\n      <td>0.170000</td>\n      <td>0.17</td>\n      <td>Right</td>\n    </tr>\n    <tr>\n      <th>115531</th>\n      <td>-1.312788e+07</td>\n      <td>3.977902e+06</td>\n      <td>55</td>\n      <td>12</td>\n      <td>0.200000</td>\n      <td>0.2</td>\n      <td>Right</td>\n    </tr>\n    <tr>\n      <th>116604</th>\n      <td>-1.312782e+07</td>\n      <td>3.978096e+06</td>\n      <td>55</td>\n      <td>12</td>\n      <td>0.300000</td>\n      <td>0.3</td>\n      <td>Right</td>\n    </tr>\n    <tr>\n      <th>117293</th>\n      <td>-1.312775e+07</td>\n      <td>3.978268e+06</td>\n      <td>55</td>\n      <td>12</td>\n      <td>0.400000</td>\n      <td>0.4</td>\n      <td>Right</td>\n    </tr>\n    <tr>\n      <th>115530</th>\n      <td>-1.312771e+07</td>\n      <td>3.978452e+06</td>\n      <td>55</td>\n      <td>12</td>\n      <td>0.500000</td>\n      <td>0.5</td>\n      <td>Right</td>\n    </tr>\n    <tr>\n      <th>...</th>\n      <td>...</td>\n      <td>...</td>\n      <td>...</td>\n      <td>...</td>\n      <td>...</td>\n      <td>...</td>\n      <td>...</td>\n    </tr>\n    <tr>\n      <th>115375</th>\n      <td>-1.311683e+07</td>\n      <td>4.007633e+06</td>\n      <td>55</td>\n      <td>12</td>\n      <td>17.600000</td>\n      <td>17.6</td>\n      <td>Right</td>\n    </tr>\n    <tr>\n      <th>115373</th>\n      <td>-1.311683e+07</td>\n      <td>4.007634e+06</td>\n      <td>55</td>\n      <td>12</td>\n      <td>17.600000</td>\n      <td>R17.6</td>\n      <td>Right</td>\n    </tr>\n    <tr>\n      <th>115372</th>\n      <td>-1.311668e+07</td>\n      <td>4.007752e+06</td>\n      <td>55</td>\n      <td>12</td>\n      <td>17.700001</td>\n      <td>R17.7</td>\n      <td>Right</td>\n    </tr>\n    <tr>\n      <th>117787</th>\n      <td>-1.311653e+07</td>\n      <td>4.007813e+06</td>\n      <td>55</td>\n      <td>12</td>\n      <td>17.799999</td>\n      <td>R17.8</td>\n      <td>Right</td>\n    </tr>\n    <tr>\n      <th>115371</th>\n      <td>-1.311641e+07</td>\n      <td>4.007848e+06</td>\n      <td>55</td>\n      <td>12</td>\n      <td>17.875999</td>\n      <td>R17.876</td>\n      <td>Right</td>\n    </tr>\n  </tbody>\n</table>\n<p>185 rows × 7 columns</p>\n</div>"
     },
     "execution_count": 300,
     "metadata": {},
     "output_type": "execute_result"
    }
   ],
   "source": [
    "pm_df[(pm_df['District']==12) & (pm_df['Route']==55) & (pm_df['AlignCode']=='Right')].sort_values('X')"
   ],
   "metadata": {
    "collapsed": false,
    "ExecuteTime": {
     "end_time": "2023-07-18T23:18:19.604125Z",
     "start_time": "2023-07-18T23:18:19.574707Z"
    }
   }
  },
  {
   "cell_type": "code",
   "execution_count": 301,
   "outputs": [
    {
     "data": {
      "text/plain": "-9149482.0"
     },
     "execution_count": 301,
     "metadata": {},
     "output_type": "execute_result"
    }
   ],
   "source": [
    "-1.312775e+07,3.978268e+06"
   ],
   "metadata": {
    "collapsed": false,
    "ExecuteTime": {
     "end_time": "2023-07-18T23:19:14.797938Z",
     "start_time": "2023-07-18T23:19:14.771222Z"
    }
   }
  },
  {
   "cell_type": "code",
   "execution_count": null,
   "outputs": [],
   "source": [
    "from pyproj import Proj, transform\n",
    "\n",
    "in_proj = Proj(init='epsg:3857')  # Input coordinate system (Web Mercator)\n",
    "out_proj = Proj(init='epsg:4326')  # Output coordinate system (WGS84)\n",
    "\n",
    "x = -13719301.5307  # Original x-coordinate\n",
    "y = 4652531.143  # Original y-coordinate\n",
    "\n",
    "longitude, latitude = transform(in_proj, out_proj, x, y)\n",
    "\n",
    "print(f'Latitude: {latitude}, Longitude: {longitude}')"
   ],
   "metadata": {
    "collapsed": false
   }
  }
 ],
 "metadata": {
  "kernelspec": {
   "display_name": "homl3",
   "language": "python",
   "name": "homl3"
  },
  "language_info": {
   "codemirror_mode": {
    "name": "ipython",
    "version": 3
   },
   "file_extension": ".py",
   "mimetype": "text/x-python",
   "name": "python",
   "nbconvert_exporter": "python",
   "pygments_lexer": "ipython3",
   "version": "3.10.5"
  }
 },
 "nbformat": 4,
 "nbformat_minor": 0
}
